{
 "cells": [
  {
   "cell_type": "code",
   "execution_count": 3,
   "id": "a091d7d6-8c02-4b7c-8cec-23a6f4448e3f",
   "metadata": {},
   "outputs": [
    {
     "ename": "Z3Exception",
     "evalue": "b'file access error'",
     "output_type": "error",
     "traceback": [
      "\u001b[0;31m---------------------------------------------------------------------------\u001b[0m",
      "\u001b[0;31mZ3Exception\u001b[0m                               Traceback (most recent call last)",
      "\u001b[0;32m<ipython-input-3-4b1ec851e75f>\u001b[0m in \u001b[0;36m<module>\u001b[0;34m\u001b[0m\n\u001b[1;32m      1\u001b[0m \u001b[0;32mimport\u001b[0m \u001b[0mz3\u001b[0m\u001b[0;34m\u001b[0m\u001b[0;34m\u001b[0m\u001b[0m\n\u001b[1;32m      2\u001b[0m \u001b[0mfilename\u001b[0m \u001b[0;34m=\u001b[0m \u001b[0;34m\"slog_stranger_1013_sink.smt2\"\u001b[0m\u001b[0;34m\u001b[0m\u001b[0;34m\u001b[0m\u001b[0m\n\u001b[0;32m----> 3\u001b[0;31m \u001b[0msmt\u001b[0m \u001b[0;34m=\u001b[0m \u001b[0mz3\u001b[0m\u001b[0;34m.\u001b[0m\u001b[0mparse_smt2_file\u001b[0m\u001b[0;34m(\u001b[0m\u001b[0mfilename\u001b[0m\u001b[0;34m)\u001b[0m\u001b[0;34m\u001b[0m\u001b[0;34m\u001b[0m\u001b[0m\n\u001b[0m",
      "\u001b[0;32m/usr/local/lib/python3.8/dist-packages/z3/z3.py\u001b[0m in \u001b[0;36mparse_smt2_file\u001b[0;34m(f, sorts, decls, ctx)\u001b[0m\n\u001b[1;32m   8651\u001b[0m     \u001b[0mssz\u001b[0m\u001b[0;34m,\u001b[0m \u001b[0msnames\u001b[0m\u001b[0;34m,\u001b[0m \u001b[0mssorts\u001b[0m \u001b[0;34m=\u001b[0m \u001b[0m_dict2sarray\u001b[0m\u001b[0;34m(\u001b[0m\u001b[0msorts\u001b[0m\u001b[0;34m,\u001b[0m \u001b[0mctx\u001b[0m\u001b[0;34m)\u001b[0m\u001b[0;34m\u001b[0m\u001b[0;34m\u001b[0m\u001b[0m\n\u001b[1;32m   8652\u001b[0m     \u001b[0mdsz\u001b[0m\u001b[0;34m,\u001b[0m \u001b[0mdnames\u001b[0m\u001b[0;34m,\u001b[0m \u001b[0mddecls\u001b[0m \u001b[0;34m=\u001b[0m \u001b[0m_dict2darray\u001b[0m\u001b[0;34m(\u001b[0m\u001b[0mdecls\u001b[0m\u001b[0;34m,\u001b[0m \u001b[0mctx\u001b[0m\u001b[0;34m)\u001b[0m\u001b[0;34m\u001b[0m\u001b[0;34m\u001b[0m\u001b[0m\n\u001b[0;32m-> 8653\u001b[0;31m     \u001b[0;32mreturn\u001b[0m \u001b[0mAstVector\u001b[0m\u001b[0;34m(\u001b[0m\u001b[0mZ3_parse_smtlib2_file\u001b[0m\u001b[0;34m(\u001b[0m\u001b[0mctx\u001b[0m\u001b[0;34m.\u001b[0m\u001b[0mref\u001b[0m\u001b[0;34m(\u001b[0m\u001b[0;34m)\u001b[0m\u001b[0;34m,\u001b[0m \u001b[0mf\u001b[0m\u001b[0;34m,\u001b[0m \u001b[0mssz\u001b[0m\u001b[0;34m,\u001b[0m \u001b[0msnames\u001b[0m\u001b[0;34m,\u001b[0m \u001b[0mssorts\u001b[0m\u001b[0;34m,\u001b[0m \u001b[0mdsz\u001b[0m\u001b[0;34m,\u001b[0m \u001b[0mdnames\u001b[0m\u001b[0;34m,\u001b[0m \u001b[0mddecls\u001b[0m\u001b[0;34m)\u001b[0m\u001b[0;34m,\u001b[0m \u001b[0mctx\u001b[0m\u001b[0;34m)\u001b[0m\u001b[0;34m\u001b[0m\u001b[0;34m\u001b[0m\u001b[0m\n\u001b[0m\u001b[1;32m   8654\u001b[0m \u001b[0;34m\u001b[0m\u001b[0m\n\u001b[1;32m   8655\u001b[0m \u001b[0;34m\u001b[0m\u001b[0m\n",
      "\u001b[0;32m/usr/local/lib/python3.8/dist-packages/z3/z3core.py\u001b[0m in \u001b[0;36mZ3_parse_smtlib2_file\u001b[0;34m(a0, a1, a2, a3, a4, a5, a6, a7, _elems)\u001b[0m\n\u001b[1;32m   3284\u001b[0m \u001b[0;32mdef\u001b[0m \u001b[0mZ3_parse_smtlib2_file\u001b[0m\u001b[0;34m(\u001b[0m\u001b[0ma0\u001b[0m\u001b[0;34m,\u001b[0m \u001b[0ma1\u001b[0m\u001b[0;34m,\u001b[0m \u001b[0ma2\u001b[0m\u001b[0;34m,\u001b[0m \u001b[0ma3\u001b[0m\u001b[0;34m,\u001b[0m \u001b[0ma4\u001b[0m\u001b[0;34m,\u001b[0m \u001b[0ma5\u001b[0m\u001b[0;34m,\u001b[0m \u001b[0ma6\u001b[0m\u001b[0;34m,\u001b[0m \u001b[0ma7\u001b[0m\u001b[0;34m,\u001b[0m \u001b[0m_elems\u001b[0m\u001b[0;34m=\u001b[0m\u001b[0mElementaries\u001b[0m\u001b[0;34m(\u001b[0m\u001b[0m_lib\u001b[0m\u001b[0;34m.\u001b[0m\u001b[0mZ3_parse_smtlib2_file\u001b[0m\u001b[0;34m)\u001b[0m\u001b[0;34m)\u001b[0m\u001b[0;34m:\u001b[0m\u001b[0;34m\u001b[0m\u001b[0;34m\u001b[0m\u001b[0m\n\u001b[1;32m   3285\u001b[0m   \u001b[0mr\u001b[0m \u001b[0;34m=\u001b[0m \u001b[0m_elems\u001b[0m\u001b[0;34m.\u001b[0m\u001b[0mf\u001b[0m\u001b[0;34m(\u001b[0m\u001b[0ma0\u001b[0m\u001b[0;34m,\u001b[0m \u001b[0m_str_to_bytes\u001b[0m\u001b[0;34m(\u001b[0m\u001b[0ma1\u001b[0m\u001b[0;34m)\u001b[0m\u001b[0;34m,\u001b[0m \u001b[0ma2\u001b[0m\u001b[0;34m,\u001b[0m \u001b[0ma3\u001b[0m\u001b[0;34m,\u001b[0m \u001b[0ma4\u001b[0m\u001b[0;34m,\u001b[0m \u001b[0ma5\u001b[0m\u001b[0;34m,\u001b[0m \u001b[0ma6\u001b[0m\u001b[0;34m,\u001b[0m \u001b[0ma7\u001b[0m\u001b[0;34m)\u001b[0m\u001b[0;34m\u001b[0m\u001b[0;34m\u001b[0m\u001b[0m\n\u001b[0;32m-> 3286\u001b[0;31m   \u001b[0m_elems\u001b[0m\u001b[0;34m.\u001b[0m\u001b[0mCheck\u001b[0m\u001b[0;34m(\u001b[0m\u001b[0ma0\u001b[0m\u001b[0;34m)\u001b[0m\u001b[0;34m\u001b[0m\u001b[0;34m\u001b[0m\u001b[0m\n\u001b[0m\u001b[1;32m   3287\u001b[0m   \u001b[0;32mreturn\u001b[0m \u001b[0mr\u001b[0m\u001b[0;34m\u001b[0m\u001b[0;34m\u001b[0m\u001b[0m\n\u001b[1;32m   3288\u001b[0m \u001b[0;34m\u001b[0m\u001b[0m\n",
      "\u001b[0;32m/usr/local/lib/python3.8/dist-packages/z3/z3core.py\u001b[0m in \u001b[0;36mCheck\u001b[0;34m(self, ctx)\u001b[0m\n\u001b[1;32m   1412\u001b[0m     \u001b[0merr\u001b[0m \u001b[0;34m=\u001b[0m \u001b[0mself\u001b[0m\u001b[0;34m.\u001b[0m\u001b[0mget_error_code\u001b[0m\u001b[0;34m(\u001b[0m\u001b[0mctx\u001b[0m\u001b[0;34m)\u001b[0m\u001b[0;34m\u001b[0m\u001b[0;34m\u001b[0m\u001b[0m\n\u001b[1;32m   1413\u001b[0m     \u001b[0;32mif\u001b[0m \u001b[0merr\u001b[0m \u001b[0;34m!=\u001b[0m \u001b[0mself\u001b[0m\u001b[0;34m.\u001b[0m\u001b[0mOK\u001b[0m\u001b[0;34m:\u001b[0m\u001b[0;34m\u001b[0m\u001b[0;34m\u001b[0m\u001b[0m\n\u001b[0;32m-> 1414\u001b[0;31m         \u001b[0;32mraise\u001b[0m \u001b[0mself\u001b[0m\u001b[0;34m.\u001b[0m\u001b[0mException\u001b[0m\u001b[0;34m(\u001b[0m\u001b[0mself\u001b[0m\u001b[0;34m.\u001b[0m\u001b[0mget_error_message\u001b[0m\u001b[0;34m(\u001b[0m\u001b[0mctx\u001b[0m\u001b[0;34m,\u001b[0m \u001b[0merr\u001b[0m\u001b[0;34m)\u001b[0m\u001b[0;34m)\u001b[0m\u001b[0;34m\u001b[0m\u001b[0;34m\u001b[0m\u001b[0m\n\u001b[0m\u001b[1;32m   1415\u001b[0m \u001b[0;34m\u001b[0m\u001b[0m\n\u001b[1;32m   1416\u001b[0m \u001b[0;32mdef\u001b[0m \u001b[0mZ3_set_error_handler\u001b[0m\u001b[0;34m(\u001b[0m\u001b[0mctx\u001b[0m\u001b[0;34m,\u001b[0m \u001b[0mhndlr\u001b[0m\u001b[0;34m,\u001b[0m \u001b[0m_elems\u001b[0m\u001b[0;34m=\u001b[0m\u001b[0mElementaries\u001b[0m\u001b[0;34m(\u001b[0m\u001b[0m_lib\u001b[0m\u001b[0;34m.\u001b[0m\u001b[0mZ3_set_error_handler\u001b[0m\u001b[0;34m)\u001b[0m\u001b[0;34m)\u001b[0m\u001b[0;34m:\u001b[0m\u001b[0;34m\u001b[0m\u001b[0;34m\u001b[0m\u001b[0m\n",
      "\u001b[0;31mZ3Exception\u001b[0m: b'file access error'"
     ]
    }
   ],
   "source": [
    "import z3\n",
    "filename = \"slog_stranger_1013_sink.smt2\"\n",
    "smt = z3.parse_smt2_file(filename)"
   ]
  },
  {
   "cell_type": "code",
   "execution_count": 83,
   "id": "efeb96a5-a87d-40e5-b4cb-143879346390",
   "metadata": {},
   "outputs": [
    {
     "data": {
      "text/html": [
       "literal_6 = \"ÿfd <span class='alt'>\""
      ],
      "text/plain": [
       "literal_6 == \"ÿfd <span class='alt'>\""
      ]
     },
     "execution_count": 83,
     "metadata": {},
     "output_type": "execute_result"
    }
   ],
   "source": [
    "smt[0]"
   ]
  },
  {
   "cell_type": "code",
   "execution_count": 90,
   "id": "c4029345-82b6-4696-89d9-bd5161e1b5a9",
   "metadata": {},
   "outputs": [
    {
     "data": {
      "text/plain": [
       "'ÿfd'"
      ]
     },
     "execution_count": 90,
     "metadata": {},
     "output_type": "execute_result"
    }
   ],
   "source": [
    "\"\\xfffd\""
   ]
  },
  {
   "cell_type": "code",
   "execution_count": null,
   "id": "90d025c1-8faa-4b70-b593-da539396fc10",
   "metadata": {},
   "outputs": [],
   "source": []
  },
  {
   "cell_type": "code",
   "execution_count": 80,
   "id": "11860501-d56e-4705-b2a9-a10dab28342e",
   "metadata": {},
   "outputs": [
    {
     "data": {
      "text/plain": [
       "z3.z3.BoolRef"
      ]
     },
     "execution_count": 80,
     "metadata": {},
     "output_type": "execute_result"
    }
   ],
   "source": [
    "type(smt[0])"
   ]
  },
  {
   "cell_type": "code",
   "execution_count": 81,
   "id": "6a1c4502-5801-43fa-9411-bb0316dd3f86",
   "metadata": {},
   "outputs": [],
   "source": [
    "eq = smt[0]"
   ]
  },
  {
   "cell_type": "code",
   "execution_count": 82,
   "id": "cacb18d0-6fb0-4e38-aaae-749249a2c450",
   "metadata": {},
   "outputs": [
    {
     "data": {
      "text/plain": [
       "'='"
      ]
     },
     "execution_count": 82,
     "metadata": {},
     "output_type": "execute_result"
    }
   ],
   "source": [
    "eq.decl().name()"
   ]
  },
  {
   "cell_type": "code",
   "execution_count": 76,
   "id": "78feff92-6465-4050-b67a-b877324fd8cb",
   "metadata": {},
   "outputs": [],
   "source": [
    "def is_string_constant(ref):\n",
    "    return ref.is_string_value()\n",
    "\n",
    "def is_string_variable(ref: z3.SeqRef) -> bool:\n",
    "    return ref.is_string() and ref.decl().kind() == z3.Z3_OP_UNINTERPRETED\n",
    "\n",
    "def is_equation(ref):\n",
    "    return ref.decl().kind() == z3.Z3_OP_EQ\n",
    "\n",
    "def is_inre(ref):\n",
    "    return ref.decl().kind() == z3.Z3_OP_SEQ_IN_RE"
   ]
  },
  {
   "cell_type": "code",
   "execution_count": 10,
   "id": "f9368d8f-3a9d-4cc5-9be8-5d2da42300ba",
   "metadata": {},
   "outputs": [
    {
     "data": {
      "text/plain": [
       "True"
      ]
     },
     "execution_count": 10,
     "metadata": {},
     "output_type": "execute_result"
    }
   ],
   "source": [
    "is_inre(smt[1])"
   ]
  },
  {
   "cell_type": "code",
   "execution_count": 11,
   "id": "7aff3c8f-5124-48bf-8ded-80a449080a21",
   "metadata": {},
   "outputs": [
    {
     "data": {
      "text/plain": [
       "z3.z3.AstVector"
      ]
     },
     "execution_count": 11,
     "metadata": {},
     "output_type": "execute_result"
    }
   ],
   "source": [
    "type(smt)"
   ]
  },
  {
   "cell_type": "code",
   "execution_count": 12,
   "id": "bded9432-ea67-476d-bd89-a46491af05a4",
   "metadata": {},
   "outputs": [],
   "source": [
    "re = smt[1].children()[1]"
   ]
  },
  {
   "cell_type": "code",
   "execution_count": 13,
   "id": "d16b1910-36c8-4de8-abaf-d66f40aa6f09",
   "metadata": {},
   "outputs": [
    {
     "data": {
      "text/plain": [
       "12"
      ]
     },
     "execution_count": 13,
     "metadata": {},
     "output_type": "execute_result"
    }
   ],
   "source": [
    "re.sort_kind()"
   ]
  },
  {
   "cell_type": "code",
   "execution_count": 14,
   "id": "7944a3b4-d45f-48c3-942a-471bf6a44124",
   "metadata": {},
   "outputs": [
    {
     "data": {
      "text/html": [
       "ReSort(String)"
      ],
      "text/plain": [
       "ReSort(String)"
      ]
     },
     "execution_count": 14,
     "metadata": {},
     "output_type": "execute_result"
    }
   ],
   "source": [
    "smt[1].children()[1].sort()"
   ]
  },
  {
   "cell_type": "code",
   "execution_count": 50,
   "id": "dbeccb2f-0bb6-4f18-8785-5fb91142bd7c",
   "metadata": {},
   "outputs": [],
   "source": [
    "def gather_alphabet(ref):\n",
    "    \"\"\"\n",
    "    Return characters used in a z3 regular expression.\n",
    "\n",
    "    Parameters\n",
    "    ----------\n",
    "    ref : z3.ReRef\n",
    "        z3 reference to regular expression\n",
    "\n",
    "    Returns\n",
    "    -------\n",
    "    Collection[str]\n",
    "        Set of characters used in the RE `ref`\n",
    "    \"\"\"\n",
    "    # Strings (can appear from equations)\n",
    "    if ref.sort().kind() == z3.Z3_SEQ_SORT:\n",
    "        if is_string_constant(ref):\n",
    "            return set(ref.as_string())\n",
    "        return set()\n",
    "\n",
    "    # Regular expressions\n",
    "    operator = ref.decl().kind()\n",
    "\n",
    "    if operator == z3.Z3_OP_SEQ_TO_RE:\n",
    "        return set(ref.children()[0].as_string())\n",
    "\n",
    "    res = set()\n",
    "    for child in ref.children():\n",
    "        res.update(gather_alphabet(child))\n",
    "    return res"
   ]
  },
  {
   "cell_type": "code",
   "execution_count": 55,
   "id": "ea3bb27b-d664-498e-ba09-c068ee919b01",
   "metadata": {},
   "outputs": [
    {
     "name": "stdout",
     "output_type": "stream",
     "text": [
      "{'\\\\', 'S', 'C', '<', 'I', 'T', '+', 'P', 'R'}\n"
     ]
    }
   ],
   "source": [
    "print(gather_alphabet(smt[1].children()[1]))"
   ]
  },
  {
   "cell_type": "code",
   "execution_count": 43,
   "id": "bd0500f2-d960-4b21-a9a5-c32bcd1498eb",
   "metadata": {},
   "outputs": [
    {
     "data": {
      "text/plain": [
       "12"
      ]
     },
     "execution_count": 43,
     "metadata": {},
     "output_type": "execute_result"
    }
   ],
   "source": [
    "smt[1].children()[1].sort().kind()"
   ]
  },
  {
   "cell_type": "code",
   "execution_count": 61,
   "id": "48304dbe-3e6e-437d-aad4-4562168625ca",
   "metadata": {},
   "outputs": [
    {
     "name": "stdout",
     "output_type": "stream",
     "text": [
      "{'\\\\', 'S', 'C', '<', 'I', 'T', '+', 'P', 'R'}\n"
     ]
    }
   ],
   "source": [
    "print(gather_alphabet(smt[1].children()[1].children()[1]))"
   ]
  },
  {
   "cell_type": "code",
   "execution_count": 17,
   "id": "25b681c4-357e-4c64-978d-912d3cc7b0df",
   "metadata": {},
   "outputs": [],
   "source": [
    "s = smt[1]"
   ]
  },
  {
   "cell_type": "raw",
   "id": "e24ac4a9-c859-4bff-a651-16e18d69dc23",
   "metadata": {},
   "source": [
    "smt[1].children()[0].as_string()"
   ]
  },
  {
   "cell_type": "code",
   "execution_count": 70,
   "id": "c261af32-dd08-4479-b132-620448f58228",
   "metadata": {},
   "outputs": [
    {
     "data": {
      "text/plain": [
       "45101"
      ]
     },
     "execution_count": 70,
     "metadata": {},
     "output_type": "execute_result"
    }
   ],
   "source": [
    "smt[0].children()[0].decl().kind()"
   ]
  },
  {
   "cell_type": "code",
   "execution_count": 79,
   "id": "ecba637f-7f05-45d1-8ad2-f412c695ddfc",
   "metadata": {},
   "outputs": [
    {
     "data": {
      "text/plain": [
       "True"
      ]
     },
     "execution_count": 79,
     "metadata": {},
     "output_type": "execute_result"
    }
   ],
   "source": [
    "is_string_variable(smt[0].children()[0])"
   ]
  },
  {
   "cell_type": "code",
   "execution_count": 78,
   "id": "c818286e-45db-46cd-9446-4afc427d7691",
   "metadata": {},
   "outputs": [
    {
     "data": {
      "text/plain": [
       "False"
      ]
     },
     "execution_count": 78,
     "metadata": {},
     "output_type": "execute_result"
    }
   ],
   "source": [
    "is_string_variable(z3.Concat(z3.String(\"abc\"), z3.String(\"def\")))"
   ]
  },
  {
   "cell_type": "code",
   "execution_count": 88,
   "id": "f706d0a4-9f65-4fe5-aed0-d16bf6962fcc",
   "metadata": {},
   "outputs": [
    {
     "data": {
      "text/plain": [
       "1573"
      ]
     },
     "execution_count": 88,
     "metadata": {},
     "output_type": "execute_result"
    }
   ],
   "source": [
    "smt[1].children()[1].decl().kind()"
   ]
  },
  {
   "cell_type": "code",
   "execution_count": 139,
   "id": "6ba9cdac-87f3-49c4-bfd6-17870035658e",
   "metadata": {},
   "outputs": [
    {
     "data": {
      "text/plain": [
       "True"
      ]
     },
     "execution_count": 139,
     "metadata": {},
     "output_type": "execute_result"
    }
   ],
   "source": [
    "smt[1].children()[1].children()[0].children()[0].decl().name() == 're.allchar'"
   ]
  },
  {
   "cell_type": "code",
   "execution_count": null,
   "id": "5a06225a-5fc6-4e67-b4eb-cd1f4fd9f840",
   "metadata": {},
   "outputs": [],
   "source": []
  },
  {
   "cell_type": "code",
   "execution_count": 25,
   "id": "b8c9d661-ea45-43da-b21a-1eab08642553",
   "metadata": {},
   "outputs": [
    {
     "data": {
      "text/plain": [
       "True"
      ]
     },
     "execution_count": 25,
     "metadata": {},
     "output_type": "execute_result"
    }
   ],
   "source": [
    "z3ab.children()[1].decl().kind() == z3.Z3_OP_SEQ_TO_RE"
   ]
  },
  {
   "cell_type": "code",
   "execution_count": 14,
   "id": "07a8cd0b-abbc-4565-b720-8c1dc575bcd5",
   "metadata": {},
   "outputs": [],
   "source": [
    "z3ab = z3.Concat(z3.Re(\"a\"), z3.Re(\"b\"))"
   ]
  },
  {
   "cell_type": "code",
   "execution_count": 23,
   "id": "201187e1-724c-43c4-95c0-50579bed7ad2",
   "metadata": {},
   "outputs": [
    {
     "ename": "AttributeError",
     "evalue": "'ReRef' object has no attribute 'is_string_value'",
     "output_type": "error",
     "traceback": [
      "\u001b[0;31m---------------------------------------------------------------------------\u001b[0m",
      "\u001b[0;31mAttributeError\u001b[0m                            Traceback (most recent call last)",
      "\u001b[0;32m<ipython-input-23-cb63f8eccc3f>\u001b[0m in \u001b[0;36m<module>\u001b[0;34m\u001b[0m\n\u001b[0;32m----> 1\u001b[0;31m \u001b[0mis_string_constant\u001b[0m\u001b[0;34m(\u001b[0m\u001b[0mz3ab\u001b[0m\u001b[0;34m.\u001b[0m\u001b[0mchildren\u001b[0m\u001b[0;34m(\u001b[0m\u001b[0;34m)\u001b[0m\u001b[0;34m[\u001b[0m\u001b[0;36m1\u001b[0m\u001b[0;34m]\u001b[0m\u001b[0;34m)\u001b[0m\u001b[0;34m\u001b[0m\u001b[0;34m\u001b[0m\u001b[0m\n\u001b[0m",
      "\u001b[0;32m<ipython-input-18-6428ad2781a6>\u001b[0m in \u001b[0;36mis_string_constant\u001b[0;34m(ref)\u001b[0m\n\u001b[1;32m      1\u001b[0m \u001b[0;32mdef\u001b[0m \u001b[0mis_string_constant\u001b[0m\u001b[0;34m(\u001b[0m\u001b[0mref\u001b[0m\u001b[0;34m)\u001b[0m\u001b[0;34m:\u001b[0m\u001b[0;34m\u001b[0m\u001b[0;34m\u001b[0m\u001b[0m\n\u001b[0;32m----> 2\u001b[0;31m     \u001b[0;32mreturn\u001b[0m \u001b[0mref\u001b[0m\u001b[0;34m.\u001b[0m\u001b[0mis_string_value\u001b[0m\u001b[0;34m(\u001b[0m\u001b[0;34m)\u001b[0m\u001b[0;34m\u001b[0m\u001b[0;34m\u001b[0m\u001b[0m\n\u001b[0m\u001b[1;32m      3\u001b[0m \u001b[0;34m\u001b[0m\u001b[0m\n\u001b[1;32m      4\u001b[0m \u001b[0;32mdef\u001b[0m \u001b[0mis_string_variable\u001b[0m\u001b[0;34m(\u001b[0m\u001b[0mref\u001b[0m\u001b[0;34m)\u001b[0m\u001b[0;34m:\u001b[0m\u001b[0;34m\u001b[0m\u001b[0;34m\u001b[0m\u001b[0m\n\u001b[1;32m      5\u001b[0m     \u001b[0;32mreturn\u001b[0m \u001b[0mref\u001b[0m\u001b[0;34m.\u001b[0m\u001b[0mis_string\u001b[0m\u001b[0;34m(\u001b[0m\u001b[0;34m)\u001b[0m \u001b[0;32mand\u001b[0m \u001b[0;32mnot\u001b[0m \u001b[0mref\u001b[0m\u001b[0;34m.\u001b[0m\u001b[0mis_string_value\u001b[0m\u001b[0;34m(\u001b[0m\u001b[0;34m)\u001b[0m\u001b[0;34m\u001b[0m\u001b[0;34m\u001b[0m\u001b[0m\n",
      "\u001b[0;31mAttributeError\u001b[0m: 'ReRef' object has no attribute 'is_string_value'"
     ]
    }
   ],
   "source": [
    "is_string_constant(z3ab.children()[1])"
   ]
  },
  {
   "cell_type": "code",
   "execution_count": 29,
   "id": "40e4f9eb-1f4a-4d14-b217-af245eb1b2e7",
   "metadata": {},
   "outputs": [],
   "source": [
    "rea = z3ab.children()[0].children()[0]"
   ]
  },
  {
   "cell_type": "code",
   "execution_count": 37,
   "id": "9be5e44e-5368-4c0f-bc98-ff9544473501",
   "metadata": {},
   "outputs": [
    {
     "data": {
      "text/plain": [
       "'a'"
      ]
     },
     "execution_count": 37,
     "metadata": {},
     "output_type": "execute_result"
    }
   ],
   "source": [
    "rea."
   ]
  },
  {
   "cell_type": "code",
   "execution_count": 158,
   "id": "94158bfc-b518-41f1-86c0-720db62426d4",
   "metadata": {},
   "outputs": [
    {
     "data": {
      "text/plain": [
       "'a+b+c+\\x1a+\\x19'"
      ]
     },
     "execution_count": 158,
     "metadata": {},
     "output_type": "execute_result"
    }
   ],
   "source": [
    "alphabet = \"abc\\x1A\\x19\"\n",
    "all_str = \"+\".join(alphabet)\n",
    "all_str"
   ]
  },
  {
   "cell_type": "code",
   "execution_count": 180,
   "id": "afafa7ba-7b51-4007-8750-8fec8c0860d8",
   "metadata": {},
   "outputs": [
    {
     "data": {
      "image/svg+xml": [
       "<svg xmlns=\"http://www.w3.org/2000/svg\" xmlns:xlink=\"http://www.w3.org/1999/xlink\" width=\"749pt\" height=\"44pt\" viewBox=\"0.00 0.00 749.00 44.00\">\n",
       "<g id=\"graph0\" class=\"graph\" transform=\"scale(1 1) rotate(0) translate(4 40)\">\n",
       "<title>%3</title>\n",
       "<polygon fill=\"white\" stroke=\"transparent\" points=\"-4,4 -4,-40 745,-40 745,4 -4,4\"/>\n",
       "<!-- I2 -->\n",
       "<g id=\"node1\" class=\"node\">\n",
       "<title>I2</title>\n",
       "<ellipse fill=\"black\" stroke=\"black\" cx=\"0\" cy=\"-18\" rx=\"0\" ry=\"0\"/>\n",
       "</g>\n",
       "<!-- 2 -->\n",
       "<g id=\"node3\" class=\"node\">\n",
       "<title>2</title>\n",
       "<path fill=\"none\" stroke=\"black\" d=\"M79,-36C79,-36 49,-36 49,-36 43,-36 37,-30 37,-24 37,-24 37,-12 37,-12 37,-6 43,0 49,0 49,0 79,0 79,0 85,0 91,-6 91,-12 91,-12 91,-24 91,-24 91,-30 85,-36 79,-36\"/>\n",
       "<text text-anchor=\"middle\" x=\"64\" y=\"-14.3\" font-family=\"Times,serif\" font-size=\"14.00\">s0</text>\n",
       "</g>\n",
       "<!-- I2&#45;&gt;2 -->\n",
       "<g id=\"edge1\" class=\"edge\">\n",
       "<title>I2-&gt;2</title>\n",
       "<path fill=\"none\" stroke=\"DimGray\" d=\"M1.04,-18C1.86,-18 13.73,-18 26.87,-18\"/>\n",
       "<polygon fill=\"DimGray\" stroke=\"DimGray\" points=\"27,-21.5 37,-18 27,-14.5 27,-21.5\"/>\n",
       "</g>\n",
       "<!-- F8 -->\n",
       "<g id=\"node2\" class=\"node\">\n",
       "<title>F8</title>\n",
       "<ellipse fill=\"black\" stroke=\"black\" cx=\"741\" cy=\"-18\" rx=\"0\" ry=\"0\"/>\n",
       "</g>\n",
       "<!-- 3 -->\n",
       "<g id=\"node4\" class=\"node\">\n",
       "<title>3</title>\n",
       "<path fill=\"none\" stroke=\"black\" d=\"M176,-36C176,-36 146,-36 146,-36 140,-36 134,-30 134,-24 134,-24 134,-12 134,-12 134,-6 140,0 146,0 146,0 176,0 176,0 182,0 188,-6 188,-12 188,-12 188,-24 188,-24 188,-30 182,-36 176,-36\"/>\n",
       "<text text-anchor=\"middle\" x=\"161\" y=\"-14.3\" font-family=\"Times,serif\" font-size=\"14.00\">s1</text>\n",
       "</g>\n",
       "<!-- 2&#45;&gt;3 -->\n",
       "<g id=\"edge2\" class=\"edge\">\n",
       "<title>2-&gt;3</title>\n",
       "<path fill=\"none\" stroke=\"black\" d=\"M91.21,-18C101.28,-18 112.96,-18 123.81,-18\"/>\n",
       "<polygon fill=\"black\" stroke=\"black\" points=\"123.87,-21.5 133.87,-18 123.87,-14.5 123.87,-21.5\"/>\n",
       "<text text-anchor=\"middle\" x=\"112.5\" y=\"-21.8\" font-family=\"Times,serif\" font-size=\"14.00\">#</text>\n",
       "</g>\n",
       "<!-- 4 -->\n",
       "<g id=\"node5\" class=\"node\">\n",
       "<title>4</title>\n",
       "<path fill=\"none\" stroke=\"black\" d=\"M273,-36C273,-36 243,-36 243,-36 237,-36 231,-30 231,-24 231,-24 231,-12 231,-12 231,-6 237,0 243,0 243,0 273,0 273,0 279,0 285,-6 285,-12 285,-12 285,-24 285,-24 285,-30 279,-36 273,-36\"/>\n",
       "<text text-anchor=\"middle\" x=\"258\" y=\"-14.3\" font-family=\"Times,serif\" font-size=\"14.00\">s2</text>\n",
       "</g>\n",
       "<!-- 3&#45;&gt;4 -->\n",
       "<g id=\"edge3\" class=\"edge\">\n",
       "<title>3-&gt;4</title>\n",
       "<path fill=\"none\" stroke=\"black\" d=\"M188.21,-18C198.28,-18 209.96,-18 220.81,-18\"/>\n",
       "<polygon fill=\"black\" stroke=\"black\" points=\"220.87,-21.5 230.87,-18 220.87,-14.5 220.87,-21.5\"/>\n",
       "<text text-anchor=\"middle\" x=\"209.5\" y=\"-21.8\" font-family=\"Times,serif\" font-size=\"14.00\">3</text>\n",
       "</g>\n",
       "<!-- 5 -->\n",
       "<g id=\"node6\" class=\"node\">\n",
       "<title>5</title>\n",
       "<path fill=\"none\" stroke=\"black\" d=\"M370,-36C370,-36 340,-36 340,-36 334,-36 328,-30 328,-24 328,-24 328,-12 328,-12 328,-6 334,0 340,0 340,0 370,0 370,0 376,0 382,-6 382,-12 382,-12 382,-24 382,-24 382,-30 376,-36 370,-36\"/>\n",
       "<text text-anchor=\"middle\" x=\"355\" y=\"-14.3\" font-family=\"Times,serif\" font-size=\"14.00\">s3</text>\n",
       "</g>\n",
       "<!-- 4&#45;&gt;5 -->\n",
       "<g id=\"edge4\" class=\"edge\">\n",
       "<title>4-&gt;5</title>\n",
       "<path fill=\"none\" stroke=\"black\" d=\"M285.21,-18C295.28,-18 306.96,-18 317.81,-18\"/>\n",
       "<polygon fill=\"black\" stroke=\"black\" points=\"317.87,-21.5 327.87,-18 317.87,-14.5 317.87,-21.5\"/>\n",
       "<text text-anchor=\"middle\" x=\"306.5\" y=\"-21.8\" font-family=\"Times,serif\" font-size=\"14.00\">2</text>\n",
       "</g>\n",
       "<!-- 6 -->\n",
       "<g id=\"node7\" class=\"node\">\n",
       "<title>6</title>\n",
       "<path fill=\"none\" stroke=\"black\" d=\"M498,-36C498,-36 468,-36 468,-36 462,-36 456,-30 456,-24 456,-24 456,-12 456,-12 456,-6 462,0 468,0 468,0 498,0 498,0 504,0 510,-6 510,-12 510,-12 510,-24 510,-24 510,-30 504,-36 498,-36\"/>\n",
       "<text text-anchor=\"middle\" x=\"483\" y=\"-14.3\" font-family=\"Times,serif\" font-size=\"14.00\">s4</text>\n",
       "</g>\n",
       "<!-- 5&#45;&gt;6 -->\n",
       "<g id=\"edge5\" class=\"edge\">\n",
       "<title>5-&gt;6</title>\n",
       "<path fill=\"none\" stroke=\"black\" d=\"M382.11,-18C400.52,-18 425.43,-18 445.77,-18\"/>\n",
       "<polygon fill=\"black\" stroke=\"black\" points=\"445.93,-21.5 455.93,-18 445.93,-14.5 445.93,-21.5\"/>\n",
       "<text text-anchor=\"middle\" x=\"419\" y=\"-21.8\" font-family=\"Times,serif\" font-size=\"14.00\">\\0x001</text>\n",
       "</g>\n",
       "<!-- 7 -->\n",
       "<g id=\"node8\" class=\"node\">\n",
       "<title>7</title>\n",
       "<path fill=\"none\" stroke=\"black\" d=\"M595,-36C595,-36 565,-36 565,-36 559,-36 553,-30 553,-24 553,-24 553,-12 553,-12 553,-6 559,0 565,0 565,0 595,0 595,0 601,0 607,-6 607,-12 607,-12 607,-24 607,-24 607,-30 601,-36 595,-36\"/>\n",
       "<text text-anchor=\"middle\" x=\"580\" y=\"-14.3\" font-family=\"Times,serif\" font-size=\"14.00\">s5</text>\n",
       "</g>\n",
       "<!-- 6&#45;&gt;7 -->\n",
       "<g id=\"edge6\" class=\"edge\">\n",
       "<title>6-&gt;7</title>\n",
       "<path fill=\"none\" stroke=\"black\" d=\"M510.21,-18C520.28,-18 531.96,-18 542.81,-18\"/>\n",
       "<polygon fill=\"black\" stroke=\"black\" points=\"542.87,-21.5 552.87,-18 542.87,-14.5 542.87,-21.5\"/>\n",
       "<text text-anchor=\"middle\" x=\"531.5\" y=\"-21.8\" font-family=\"Times,serif\" font-size=\"14.00\">3</text>\n",
       "</g>\n",
       "<!-- 8 -->\n",
       "<g id=\"node9\" class=\"node\">\n",
       "<title>8</title>\n",
       "<path fill=\"none\" stroke=\"black\" d=\"M692,-36C692,-36 662,-36 662,-36 656,-36 650,-30 650,-24 650,-24 650,-12 650,-12 650,-6 656,0 662,0 662,0 692,0 692,0 698,0 704,-6 704,-12 704,-12 704,-24 704,-24 704,-30 698,-36 692,-36\"/>\n",
       "<text text-anchor=\"middle\" x=\"677\" y=\"-14.3\" font-family=\"Times,serif\" font-size=\"14.00\">s6</text>\n",
       "</g>\n",
       "<!-- 7&#45;&gt;8 -->\n",
       "<g id=\"edge7\" class=\"edge\">\n",
       "<title>7-&gt;8</title>\n",
       "<path fill=\"none\" stroke=\"black\" d=\"M607.21,-18C617.28,-18 628.96,-18 639.81,-18\"/>\n",
       "<polygon fill=\"black\" stroke=\"black\" points=\"639.87,-21.5 649.87,-18 639.87,-14.5 639.87,-21.5\"/>\n",
       "<text text-anchor=\"middle\" x=\"628.5\" y=\"-21.8\" font-family=\"Times,serif\" font-size=\"14.00\">6</text>\n",
       "</g>\n",
       "<!-- 8&#45;&gt;F8 -->\n",
       "<g id=\"edge8\" class=\"edge\">\n",
       "<title>8-&gt;F8</title>\n",
       "<path fill=\"none\" stroke=\"DimGray\" d=\"M704.29,-18C713.25,-18 722.73,-18 729.68,-18\"/>\n",
       "<polygon fill=\"DimGray\" stroke=\"DimGray\" points=\"729.95,-21.5 739.95,-18 729.95,-14.5 729.95,-21.5\"/>\n",
       "</g>\n",
       "</g>\n",
       "</svg>"
      ],
      "text/plain": [
       "<IPython.core.display.SVG object>"
      ]
     },
     "metadata": {},
     "output_type": "display_data"
    }
   ],
   "source": [
    "awalipy.RatExp(\"\\x2332\\x0136\").exp_to_aut().display()"
   ]
  },
  {
   "cell_type": "code",
   "execution_count": 159,
   "id": "3240083f-74e4-4c84-8af8-1f6a33da9968",
   "metadata": {},
   "outputs": [
    {
     "data": {
      "text/plain": [
       "a+b+c+\\0x01a+\\0x019"
      ]
     },
     "execution_count": 159,
     "metadata": {},
     "output_type": "execute_result"
    }
   ],
   "source": [
    "awalipy.RatExp(all_str, alphabet=alphabet)"
   ]
  },
  {
   "cell_type": "code",
   "execution_count": 1,
   "id": "c37cfb3b-37cb-4c9f-bd01-f46a528fcf24",
   "metadata": {},
   "outputs": [
    {
     "name": "stdout",
     "output_type": "stream",
     "text": [
      "[Warning] The python module awalipy relies on compilation executed \"on-the-fly\" depending on the context (type of weights, of labels, etc.). As a result, the very first call to a given function in a given context may take up to 10 seconds. \n"
     ]
    }
   ],
   "source": [
    "import awalipy"
   ]
  },
  {
   "cell_type": "code",
   "execution_count": 15,
   "id": "312d6866-0896-4a26-8d66-657383a3cac4",
   "metadata": {},
   "outputs": [],
   "source": [
    "re = awalipy.RatExp(\"acb\\\\b+\\x1A\", alphabet=\"abc\\\\\\x1A\")"
   ]
  },
  {
   "cell_type": "code",
   "execution_count": 20,
   "id": "d30d82ed-8cb5-4d5e-8174-f5e3dfd0893c",
   "metadata": {},
   "outputs": [
    {
     "data": {
      "text/plain": [
       "True"
      ]
     },
     "execution_count": 20,
     "metadata": {},
     "output_type": "execute_result"
    }
   ],
   "source": [
    "\"acb\" in str(re)"
   ]
  },
  {
   "cell_type": "code",
   "execution_count": null,
   "id": "3dc67556-fb81-43b8-a43e-c81331fd9621",
   "metadata": {},
   "outputs": [],
   "source": [
    "awalipy.RatExp."
   ]
  },
  {
   "cell_type": "code",
   "execution_count": 211,
   "id": "ac0d0f91-4426-452c-a067-99a96a2d276f",
   "metadata": {},
   "outputs": [
    {
     "data": {
      "text/plain": [
       "'\\x19'"
      ]
     },
     "execution_count": 211,
     "metadata": {},
     "output_type": "execute_result"
    }
   ],
   "source": [
    "\" \".translate(str.maketrans({' ': \"\\x19\"}))"
   ]
  },
  {
   "cell_type": "code",
   "execution_count": 207,
   "id": "822ad8e0-5ebc-4a2b-be14-f5e12861aae7",
   "metadata": {},
   "outputs": [
    {
     "data": {
      "text/plain": [
       "'\\x118'"
      ]
     },
     "execution_count": 207,
     "metadata": {},
     "output_type": "execute_result"
    }
   ],
   "source": [
    "{'\\x20': \"\\x118\"}.__getitem__(\" \")"
   ]
  },
  {
   "cell_type": "code",
   "execution_count": null,
   "id": "816dc44e-8b1f-406a-a1b3-13e2e7811faa",
   "metadata": {},
   "outputs": [],
   "source": [
    "str.translate"
   ]
  },
  {
   "cell_type": "code",
   "execution_count": 216,
   "id": "3b8eaddf-b237-4dd3-afab-16e006181038",
   "metadata": {},
   "outputs": [
    {
     "data": {
      "image/svg+xml": [
       "<svg xmlns=\"http://www.w3.org/2000/svg\" xmlns:xlink=\"http://www.w3.org/1999/xlink\" width=\"284pt\" height=\"44pt\" viewBox=\"0.00 0.00 284.00 44.00\">\n",
       "<g id=\"graph0\" class=\"graph\" transform=\"scale(1 1) rotate(0) translate(4 40)\">\n",
       "<title>%3</title>\n",
       "<polygon fill=\"white\" stroke=\"transparent\" points=\"-4,4 -4,-40 280,-40 280,4 -4,4\"/>\n",
       "<!-- I2 -->\n",
       "<g id=\"node1\" class=\"node\">\n",
       "<title>I2</title>\n",
       "<ellipse fill=\"black\" stroke=\"black\" cx=\"0\" cy=\"-18\" rx=\"0\" ry=\"0\"/>\n",
       "</g>\n",
       "<!-- 2 -->\n",
       "<g id=\"node3\" class=\"node\">\n",
       "<title>2</title>\n",
       "<path fill=\"none\" stroke=\"black\" d=\"M79,-36C79,-36 49,-36 49,-36 43,-36 37,-30 37,-24 37,-24 37,-12 37,-12 37,-6 43,0 49,0 49,0 79,0 79,0 85,0 91,-6 91,-12 91,-12 91,-24 91,-24 91,-30 85,-36 79,-36\"/>\n",
       "<text text-anchor=\"middle\" x=\"64\" y=\"-14.3\" font-family=\"Times,serif\" font-size=\"14.00\">s0</text>\n",
       "</g>\n",
       "<!-- I2&#45;&gt;2 -->\n",
       "<g id=\"edge1\" class=\"edge\">\n",
       "<title>I2-&gt;2</title>\n",
       "<path fill=\"none\" stroke=\"DimGray\" d=\"M1.04,-18C1.86,-18 13.73,-18 26.87,-18\"/>\n",
       "<polygon fill=\"DimGray\" stroke=\"DimGray\" points=\"27,-21.5 37,-18 27,-14.5 27,-21.5\"/>\n",
       "</g>\n",
       "<!-- F3 -->\n",
       "<g id=\"node2\" class=\"node\">\n",
       "<title>F3</title>\n",
       "<ellipse fill=\"black\" stroke=\"black\" cx=\"276\" cy=\"-18\" rx=\"0\" ry=\"0\"/>\n",
       "</g>\n",
       "<!-- 3 -->\n",
       "<g id=\"node4\" class=\"node\">\n",
       "<title>3</title>\n",
       "<path fill=\"none\" stroke=\"black\" d=\"M227,-36C227,-36 197,-36 197,-36 191,-36 185,-30 185,-24 185,-24 185,-12 185,-12 185,-6 191,0 197,0 197,0 227,0 227,0 233,0 239,-6 239,-12 239,-12 239,-24 239,-24 239,-30 233,-36 227,-36\"/>\n",
       "<text text-anchor=\"middle\" x=\"212\" y=\"-14.3\" font-family=\"Times,serif\" font-size=\"14.00\">s1</text>\n",
       "</g>\n",
       "<!-- 2&#45;&gt;3 -->\n",
       "<g id=\"edge2\" class=\"edge\">\n",
       "<title>2-&gt;3</title>\n",
       "<path fill=\"none\" stroke=\"black\" d=\"M91.1,-18C114.31,-18 148.5,-18 174.43,-18\"/>\n",
       "<polygon fill=\"black\" stroke=\"black\" points=\"174.63,-21.5 184.63,-18 174.63,-14.5 174.63,-21.5\"/>\n",
       "<text text-anchor=\"middle\" x=\"138\" y=\"-21.8\" font-family=\"Times,serif\" font-size=\"14.00\">[\\0x019-b]</text>\n",
       "</g>\n",
       "<!-- 3&#45;&gt;F3 -->\n",
       "<g id=\"edge3\" class=\"edge\">\n",
       "<title>3-&gt;F3</title>\n",
       "<path fill=\"none\" stroke=\"DimGray\" d=\"M239.29,-18C248.25,-18 257.73,-18 264.68,-18\"/>\n",
       "<polygon fill=\"DimGray\" stroke=\"DimGray\" points=\"264.95,-21.5 274.95,-18 264.95,-14.5 264.95,-21.5\"/>\n",
       "</g>\n",
       "</g>\n",
       "</svg>"
      ],
      "text/plain": [
       "<IPython.core.display.SVG object>"
      ]
     },
     "metadata": {},
     "output_type": "display_data"
    }
   ],
   "source": [
    "awalipy.RatExp(\"\\x19+a+b+\\x1A\", alphabet=\"a\\x19\\x1Ab\").exp_to_aut().display()"
   ]
  },
  {
   "cell_type": "code",
   "execution_count": 225,
   "id": "d5792817-7c0d-4c67-9937-56179eb361ce",
   "metadata": {},
   "outputs": [
    {
     "data": {
      "text/plain": [
       "\\\\x3C"
      ]
     },
     "execution_count": 225,
     "metadata": {},
     "output_type": "execute_result"
    }
   ],
   "source": [
    "awalipy.RatExp(\"x3C\")"
   ]
  },
  {
   "cell_type": "code",
   "execution_count": 230,
   "id": "e4216fc0-6312-4832-bd7e-bba057b90812",
   "metadata": {},
   "outputs": [
    {
     "ename": "ValueError",
     "evalue": "invalid label",
     "output_type": "error",
     "traceback": [
      "\u001b[0;31m---------------------------------------------------------------------------\u001b[0m",
      "\u001b[0;31mValueError\u001b[0m                                Traceback (most recent call last)",
      "\u001b[0;32m<ipython-input-230-b96ffc7eb0b8>\u001b[0m in \u001b[0;36m<module>\u001b[0;34m\u001b[0m\n\u001b[0;32m----> 1\u001b[0;31m \u001b[0mawalipy\u001b[0m\u001b[0;34m.\u001b[0m\u001b[0mRatExp\u001b[0m\u001b[0;34m(\u001b[0m\u001b[0;34m\"[>]\"\u001b[0m\u001b[0;34m)\u001b[0m\u001b[0;34m\u001b[0m\u001b[0;34m\u001b[0m\u001b[0m\n\u001b[0m",
      "\u001b[0;32mcython-src/ratexp_2_class.pyx\u001b[0m in \u001b[0;36mawalipy.RatExp.__init__\u001b[0;34m()\u001b[0m\n",
      "\u001b[0;31mValueError\u001b[0m: invalid label"
     ]
    }
   ],
   "source": [
    "awalipy.RatExp(\"[>]\")"
   ]
  },
  {
   "cell_type": "code",
   "execution_count": 41,
   "id": "4ba8bd55-1db6-41b3-b4f0-d9f234706833",
   "metadata": {},
   "outputs": [],
   "source": [
    "re = awalipy.RatExp(\"(S+\\\\+\\x19+r+T+\\x17+b+R+I+C+\\x18+P+/+\\x1a)*(\\\\\\x18SCRIPT(S+\\\\+\\x19+r+T+\\x17+b+R+I+C+\\x18+P+/+\\x1a)*\")"
   ]
  },
  {
   "cell_type": "code",
   "execution_count": 72,
   "id": "035e7eb5-7c6b-45b5-83fe-c8c4db8e14dd",
   "metadata": {},
   "outputs": [
    {
     "ename": "TypeError",
     "evalue": "__init__() takes at least 1 positional argument (0 given)",
     "output_type": "error",
     "traceback": [
      "\u001b[0;31m---------------------------------------------------------------------------\u001b[0m",
      "\u001b[0;31mTypeError\u001b[0m                                 Traceback (most recent call last)",
      "\u001b[0;32m<ipython-input-72-3dea44b8d50c>\u001b[0m in \u001b[0;36m<module>\u001b[0;34m\u001b[0m\n\u001b[0;32m----> 1\u001b[0;31m \u001b[0mawalipy\u001b[0m\u001b[0;34m.\u001b[0m\u001b[0mRatExp\u001b[0m\u001b[0;34m(\u001b[0m\u001b[0;34m)\u001b[0m\u001b[0;34m\u001b[0m\u001b[0;34m\u001b[0m\u001b[0m\n\u001b[0m",
      "\u001b[0;32mcython-src/ratexp_2_class.pyx\u001b[0m in \u001b[0;36mawalipy.RatExp.__init__\u001b[0;34m()\u001b[0m\n",
      "\u001b[0;31mTypeError\u001b[0m: __init__() takes at least 1 positional argument (0 given)"
     ]
    }
   ],
   "source": [
    "awalipy.RatExp"
   ]
  },
  {
   "cell_type": "code",
   "execution_count": 51,
   "id": "9de0c4d3-1d86-46aa-9a1b-5b974d059a36",
   "metadata": {},
   "outputs": [
    {
     "ename": "AttributeError",
     "evalue": "'dict' object has no attribute 'isdisjoint'",
     "output_type": "error",
     "traceback": [
      "\u001b[0;31m---------------------------------------------------------------------------\u001b[0m",
      "\u001b[0;31mAttributeError\u001b[0m                            Traceback (most recent call last)",
      "\u001b[0;32m<ipython-input-51-c32d42c7900f>\u001b[0m in \u001b[0;36m<module>\u001b[0;34m\u001b[0m\n\u001b[0;32m----> 1\u001b[0;31m \u001b[0;34m{\u001b[0m\u001b[0;34m\"a\"\u001b[0m\u001b[0;34m:\u001b[0m \u001b[0;34m\"b\"\u001b[0m\u001b[0;34m}\u001b[0m\u001b[0;34m.\u001b[0m\u001b[0misdisjoint\u001b[0m\u001b[0;34m(\u001b[0m\u001b[0;34m{\u001b[0m\u001b[0;34m\"a\"\u001b[0m\u001b[0;34m:\u001b[0m \u001b[0;34m\"c\"\u001b[0m\u001b[0;34m}\u001b[0m\u001b[0;34m)\u001b[0m\u001b[0;34m\u001b[0m\u001b[0;34m\u001b[0m\u001b[0m\n\u001b[0m",
      "\u001b[0;31mAttributeError\u001b[0m: 'dict' object has no attribute 'isdisjoint'"
     ]
    }
   ],
   "source": [
    "{\"a\": \"b\"}."
   ]
  },
  {
   "cell_type": "code",
   "execution_count": 76,
   "id": "9614bdf2-722b-431a-b377-e1b1f6066130",
   "metadata": {},
   "outputs": [
    {
     "data": {
      "text/plain": [
       "'�'"
      ]
     },
     "execution_count": 76,
     "metadata": {},
     "output_type": "execute_result"
    }
   ],
   "source": [
    "\"\\ufffd\""
   ]
  }
 ],
 "metadata": {
  "kernelspec": {
   "display_name": "Python 3",
   "language": "python",
   "name": "python3"
  },
  "language_info": {
   "codemirror_mode": {
    "name": "ipython",
    "version": 3
   },
   "file_extension": ".py",
   "mimetype": "text/x-python",
   "name": "python",
   "nbconvert_exporter": "python",
   "pygments_lexer": "ipython3",
   "version": "3.8.6"
  }
 },
 "nbformat": 4,
 "nbformat_minor": 5
}
