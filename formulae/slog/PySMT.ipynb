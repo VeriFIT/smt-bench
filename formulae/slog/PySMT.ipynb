{
 "cells": [
  {
   "cell_type": "markdown",
   "id": "perceived-navigator",
   "metadata": {},
   "source": [
    "Need to install pysmt PR 568 to parse strings and regexes."
   ]
  },
  {
   "cell_type": "code",
   "execution_count": 2,
   "id": "favorite-timeline",
   "metadata": {},
   "outputs": [],
   "source": [
    "import pysmt"
   ]
  },
  {
   "cell_type": "code",
   "execution_count": 3,
   "id": "unique-thickness",
   "metadata": {},
   "outputs": [
    {
     "data": {
      "text/plain": [
       "'0.9.1.dev2'"
      ]
     },
     "execution_count": 3,
     "metadata": {},
     "output_type": "execute_result"
    }
   ],
   "source": [
    "pysmt.__version__"
   ]
  },
  {
   "cell_type": "code",
   "execution_count": 8,
   "id": "accessible-memory",
   "metadata": {},
   "outputs": [],
   "source": [
    "filename = \"myfile.smt2\""
   ]
  },
  {
   "cell_type": "code",
   "execution_count": 5,
   "id": "beneficial-bathroom",
   "metadata": {},
   "outputs": [],
   "source": [
    "from pysmt.smtlib.parser import SmtLibParser"
   ]
  },
  {
   "cell_type": "code",
   "execution_count": 9,
   "id": "chemical-classification",
   "metadata": {},
   "outputs": [
    {
     "name": "stderr",
     "output_type": "stream",
     "text": [
      "<ipython-input-9-99776ca17e59>:2: UserWarning: Unknown logic 'QF_S'. Ignoring set-logic command.\n",
      "  script = parser.get_script(open(filename))\n"
     ]
    },
    {
     "ename": "AttributeError",
     "evalue": "'str' object has no attribute 'node_type'",
     "output_type": "error",
     "traceback": [
      "\u001b[0;31m---------------------------------------------------------------------------\u001b[0m",
      "\u001b[0;31mAttributeError\u001b[0m                            Traceback (most recent call last)",
      "\u001b[0;32m<ipython-input-9-99776ca17e59>\u001b[0m in \u001b[0;36m<module>\u001b[0;34m\u001b[0m\n\u001b[1;32m      1\u001b[0m \u001b[0mparser\u001b[0m \u001b[0;34m=\u001b[0m \u001b[0mSmtLibParser\u001b[0m\u001b[0;34m(\u001b[0m\u001b[0;34m)\u001b[0m\u001b[0;34m\u001b[0m\u001b[0;34m\u001b[0m\u001b[0m\n\u001b[0;32m----> 2\u001b[0;31m \u001b[0mscript\u001b[0m \u001b[0;34m=\u001b[0m \u001b[0mparser\u001b[0m\u001b[0;34m.\u001b[0m\u001b[0mget_script\u001b[0m\u001b[0;34m(\u001b[0m\u001b[0mopen\u001b[0m\u001b[0;34m(\u001b[0m\u001b[0mfilename\u001b[0m\u001b[0;34m)\u001b[0m\u001b[0;34m)\u001b[0m\u001b[0;34m\u001b[0m\u001b[0;34m\u001b[0m\u001b[0m\n\u001b[0m",
      "\u001b[0;32m~/.pyxbld/lib.linux-x86_64-3.8/pysmt/smtlib/parser/parser.cpython-38-x86_64-linux-gnu.so\u001b[0m in \u001b[0;36mpysmt.smtlib.parser.parser.SmtLibParser.get_script\u001b[0;34m()\u001b[0m\n",
      "\u001b[0;32m~/.pyxbld/lib.linux-x86_64-3.8/pysmt/smtlib/parser/parser.cpython-38-x86_64-linux-gnu.so\u001b[0m in \u001b[0;36mget_command_generator\u001b[0;34m()\u001b[0m\n",
      "\u001b[0;32m~/.pyxbld/lib.linux-x86_64-3.8/pysmt/smtlib/parser/parser.cpython-38-x86_64-linux-gnu.so\u001b[0m in \u001b[0;36mget_command\u001b[0;34m()\u001b[0m\n",
      "\u001b[0;32m~/.pyxbld/lib.linux-x86_64-3.8/pysmt/smtlib/parser/parser.cpython-38-x86_64-linux-gnu.so\u001b[0m in \u001b[0;36mpysmt.smtlib.parser.parser.SmtLibParser._cmd_assert\u001b[0;34m()\u001b[0m\n",
      "\u001b[0;32m~/.pyxbld/lib.linux-x86_64-3.8/pysmt/smtlib/parser/parser.cpython-38-x86_64-linux-gnu.so\u001b[0m in \u001b[0;36mpysmt.smtlib.parser.parser.SmtLibParser.get_expression\u001b[0;34m()\u001b[0m\n",
      "\u001b[0;32m~/tools/pysmt/pysmt/formula.py\u001b[0m in \u001b[0;36mReAll\u001b[0;34m(self)\u001b[0m\n\u001b[1;32m   1014\u001b[0m         \"\"\"Returns a constant denoting the set of all strings\n\u001b[1;32m   1015\u001b[0m         \"\"\"\n\u001b[0;32m-> 1016\u001b[0;31m         \u001b[0;32mreturn\u001b[0m \u001b[0mself\u001b[0m\u001b[0;34m.\u001b[0m\u001b[0mcreate_node\u001b[0m\u001b[0;34m(\u001b[0m\u001b[0mnode_type\u001b[0m\u001b[0;34m=\u001b[0m\u001b[0mop\u001b[0m\u001b[0;34m.\u001b[0m\u001b[0mRE_ALL\u001b[0m\u001b[0;34m,\u001b[0m \u001b[0margs\u001b[0m\u001b[0;34m=\u001b[0m\u001b[0;34m(\u001b[0m\u001b[0;34m)\u001b[0m\u001b[0;34m)\u001b[0m\u001b[0;34m\u001b[0m\u001b[0;34m\u001b[0m\u001b[0m\n\u001b[0m\u001b[1;32m   1017\u001b[0m \u001b[0;34m\u001b[0m\u001b[0m\n\u001b[1;32m   1018\u001b[0m     \u001b[0;32mdef\u001b[0m \u001b[0mReAllchar\u001b[0m\u001b[0;34m(\u001b[0m\u001b[0mself\u001b[0m\u001b[0;34m)\u001b[0m\u001b[0;34m:\u001b[0m\u001b[0;34m\u001b[0m\u001b[0;34m\u001b[0m\u001b[0m\n",
      "\u001b[0;32m~/tools/pysmt/pysmt/formula.py\u001b[0m in \u001b[0;36mcreate_node\u001b[0;34m(self, node_type, args, payload)\u001b[0m\n\u001b[1;32m     94\u001b[0m             \u001b[0mself\u001b[0m\u001b[0;34m.\u001b[0m\u001b[0m_next_free_id\u001b[0m \u001b[0;34m+=\u001b[0m \u001b[0;36m1\u001b[0m\u001b[0;34m\u001b[0m\u001b[0;34m\u001b[0m\u001b[0m\n\u001b[1;32m     95\u001b[0m             \u001b[0mself\u001b[0m\u001b[0;34m.\u001b[0m\u001b[0mformulae\u001b[0m\u001b[0;34m[\u001b[0m\u001b[0mcontent\u001b[0m\u001b[0;34m]\u001b[0m \u001b[0;34m=\u001b[0m \u001b[0mn\u001b[0m\u001b[0;34m\u001b[0m\u001b[0;34m\u001b[0m\u001b[0m\n\u001b[0;32m---> 96\u001b[0;31m             \u001b[0mself\u001b[0m\u001b[0;34m.\u001b[0m\u001b[0m_do_type_check\u001b[0m\u001b[0;34m(\u001b[0m\u001b[0mn\u001b[0m\u001b[0;34m)\u001b[0m\u001b[0;34m\u001b[0m\u001b[0;34m\u001b[0m\u001b[0m\n\u001b[0m\u001b[1;32m     97\u001b[0m             \u001b[0;32mreturn\u001b[0m \u001b[0mn\u001b[0m\u001b[0;34m\u001b[0m\u001b[0;34m\u001b[0m\u001b[0m\n\u001b[1;32m     98\u001b[0m \u001b[0;34m\u001b[0m\u001b[0m\n",
      "\u001b[0;32m~/tools/pysmt/pysmt/formula.py\u001b[0m in \u001b[0;36m_do_type_check_real\u001b[0;34m(self, formula)\u001b[0m\n\u001b[1;32m     79\u001b[0m \u001b[0;34m\u001b[0m\u001b[0m\n\u001b[1;32m     80\u001b[0m     \u001b[0;32mdef\u001b[0m \u001b[0m_do_type_check_real\u001b[0m\u001b[0;34m(\u001b[0m\u001b[0mself\u001b[0m\u001b[0;34m,\u001b[0m \u001b[0mformula\u001b[0m\u001b[0;34m)\u001b[0m\u001b[0;34m:\u001b[0m\u001b[0;34m\u001b[0m\u001b[0;34m\u001b[0m\u001b[0m\n\u001b[0;32m---> 81\u001b[0;31m         \u001b[0mself\u001b[0m\u001b[0;34m.\u001b[0m\u001b[0mget_type\u001b[0m\u001b[0;34m(\u001b[0m\u001b[0mformula\u001b[0m\u001b[0;34m)\u001b[0m\u001b[0;34m\u001b[0m\u001b[0;34m\u001b[0m\u001b[0m\n\u001b[0m\u001b[1;32m     82\u001b[0m \u001b[0;34m\u001b[0m\u001b[0m\n\u001b[1;32m     83\u001b[0m     \u001b[0;32mdef\u001b[0m \u001b[0m_do_type_check\u001b[0m\u001b[0;34m(\u001b[0m\u001b[0mself\u001b[0m\u001b[0;34m,\u001b[0m \u001b[0mformula\u001b[0m\u001b[0;34m)\u001b[0m\u001b[0;34m:\u001b[0m\u001b[0;34m\u001b[0m\u001b[0;34m\u001b[0m\u001b[0m\n",
      "\u001b[0;32m~/tools/pysmt/pysmt/type_checker.py\u001b[0m in \u001b[0;36mget_type\u001b[0;34m(self, formula)\u001b[0m\n\u001b[1;32m     41\u001b[0m     \u001b[0;32mdef\u001b[0m \u001b[0mget_type\u001b[0m\u001b[0;34m(\u001b[0m\u001b[0mself\u001b[0m\u001b[0;34m,\u001b[0m \u001b[0mformula\u001b[0m\u001b[0;34m)\u001b[0m\u001b[0;34m:\u001b[0m\u001b[0;34m\u001b[0m\u001b[0;34m\u001b[0m\u001b[0m\n\u001b[1;32m     42\u001b[0m         \u001b[0;34m\"\"\" Returns the pysmt.types type of the formula \"\"\"\u001b[0m\u001b[0;34m\u001b[0m\u001b[0;34m\u001b[0m\u001b[0m\n\u001b[0;32m---> 43\u001b[0;31m         \u001b[0mres\u001b[0m \u001b[0;34m=\u001b[0m \u001b[0mself\u001b[0m\u001b[0;34m.\u001b[0m\u001b[0mwalk\u001b[0m\u001b[0;34m(\u001b[0m\u001b[0mformula\u001b[0m\u001b[0;34m)\u001b[0m\u001b[0;34m\u001b[0m\u001b[0;34m\u001b[0m\u001b[0m\n\u001b[0m\u001b[1;32m     44\u001b[0m         \u001b[0;32mif\u001b[0m \u001b[0;32mnot\u001b[0m \u001b[0mself\u001b[0m\u001b[0;34m.\u001b[0m\u001b[0mbe_nice\u001b[0m \u001b[0;32mand\u001b[0m \u001b[0mres\u001b[0m \u001b[0;32mis\u001b[0m \u001b[0;32mNone\u001b[0m\u001b[0;34m:\u001b[0m\u001b[0;34m\u001b[0m\u001b[0;34m\u001b[0m\u001b[0m\n\u001b[1;32m     45\u001b[0m             raise PysmtTypeError(\"The formula '%s' is not well-formed\" \\\n",
      "\u001b[0;32m~/tools/pysmt/pysmt/walkers/dag.py\u001b[0m in \u001b[0;36mwalk\u001b[0;34m(self, formula, **kwargs)\u001b[0m\n\u001b[1;32m    104\u001b[0m             \u001b[0;32mreturn\u001b[0m \u001b[0mself\u001b[0m\u001b[0;34m.\u001b[0m\u001b[0mmemoization\u001b[0m\u001b[0;34m[\u001b[0m\u001b[0mformula\u001b[0m\u001b[0;34m]\u001b[0m\u001b[0;34m\u001b[0m\u001b[0;34m\u001b[0m\u001b[0m\n\u001b[1;32m    105\u001b[0m \u001b[0;34m\u001b[0m\u001b[0m\n\u001b[0;32m--> 106\u001b[0;31m         \u001b[0mres\u001b[0m \u001b[0;34m=\u001b[0m \u001b[0mself\u001b[0m\u001b[0;34m.\u001b[0m\u001b[0miter_walk\u001b[0m\u001b[0;34m(\u001b[0m\u001b[0mformula\u001b[0m\u001b[0;34m,\u001b[0m \u001b[0;34m**\u001b[0m\u001b[0mkwargs\u001b[0m\u001b[0;34m)\u001b[0m\u001b[0;34m\u001b[0m\u001b[0;34m\u001b[0m\u001b[0m\n\u001b[0m\u001b[1;32m    107\u001b[0m \u001b[0;34m\u001b[0m\u001b[0m\n\u001b[1;32m    108\u001b[0m         \u001b[0;32mif\u001b[0m \u001b[0mself\u001b[0m\u001b[0;34m.\u001b[0m\u001b[0minvalidate_memoization\u001b[0m\u001b[0;34m:\u001b[0m\u001b[0;34m\u001b[0m\u001b[0;34m\u001b[0m\u001b[0m\n",
      "\u001b[0;32m~/tools/pysmt/pysmt/walkers/dag.py\u001b[0m in \u001b[0;36miter_walk\u001b[0;34m(self, formula, **kwargs)\u001b[0m\n\u001b[1;32m     96\u001b[0m         \u001b[0;34m\"\"\"Performs an iterative walk of the DAG\"\"\"\u001b[0m\u001b[0;34m\u001b[0m\u001b[0;34m\u001b[0m\u001b[0m\n\u001b[1;32m     97\u001b[0m         \u001b[0mself\u001b[0m\u001b[0;34m.\u001b[0m\u001b[0mstack\u001b[0m\u001b[0;34m.\u001b[0m\u001b[0mappend\u001b[0m\u001b[0;34m(\u001b[0m\u001b[0;34m(\u001b[0m\u001b[0;32mFalse\u001b[0m\u001b[0;34m,\u001b[0m \u001b[0mformula\u001b[0m\u001b[0;34m)\u001b[0m\u001b[0;34m)\u001b[0m\u001b[0;34m\u001b[0m\u001b[0;34m\u001b[0m\u001b[0m\n\u001b[0;32m---> 98\u001b[0;31m         \u001b[0mself\u001b[0m\u001b[0;34m.\u001b[0m\u001b[0m_process_stack\u001b[0m\u001b[0;34m(\u001b[0m\u001b[0;34m**\u001b[0m\u001b[0mkwargs\u001b[0m\u001b[0;34m)\u001b[0m\u001b[0;34m\u001b[0m\u001b[0;34m\u001b[0m\u001b[0m\n\u001b[0m\u001b[1;32m     99\u001b[0m         \u001b[0mres_key\u001b[0m \u001b[0;34m=\u001b[0m \u001b[0mself\u001b[0m\u001b[0;34m.\u001b[0m\u001b[0m_get_key\u001b[0m\u001b[0;34m(\u001b[0m\u001b[0mformula\u001b[0m\u001b[0;34m,\u001b[0m \u001b[0;34m**\u001b[0m\u001b[0mkwargs\u001b[0m\u001b[0;34m)\u001b[0m\u001b[0;34m\u001b[0m\u001b[0;34m\u001b[0m\u001b[0m\n\u001b[1;32m    100\u001b[0m         \u001b[0;32mreturn\u001b[0m \u001b[0mself\u001b[0m\u001b[0;34m.\u001b[0m\u001b[0mmemoization\u001b[0m\u001b[0;34m[\u001b[0m\u001b[0mres_key\u001b[0m\u001b[0;34m]\u001b[0m\u001b[0;34m\u001b[0m\u001b[0;34m\u001b[0m\u001b[0m\n",
      "\u001b[0;32m~/tools/pysmt/pysmt/walkers/dag.py\u001b[0m in \u001b[0;36m_process_stack\u001b[0;34m(self, **kwargs)\u001b[0m\n\u001b[1;32m     89\u001b[0m             \u001b[0;34m(\u001b[0m\u001b[0mwas_expanded\u001b[0m\u001b[0;34m,\u001b[0m \u001b[0mformula\u001b[0m\u001b[0;34m)\u001b[0m \u001b[0;34m=\u001b[0m \u001b[0mself\u001b[0m\u001b[0;34m.\u001b[0m\u001b[0mstack\u001b[0m\u001b[0;34m.\u001b[0m\u001b[0mpop\u001b[0m\u001b[0;34m(\u001b[0m\u001b[0;34m)\u001b[0m\u001b[0;34m\u001b[0m\u001b[0;34m\u001b[0m\u001b[0m\n\u001b[1;32m     90\u001b[0m             \u001b[0;32mif\u001b[0m \u001b[0mwas_expanded\u001b[0m\u001b[0;34m:\u001b[0m\u001b[0;34m\u001b[0m\u001b[0;34m\u001b[0m\u001b[0m\n\u001b[0;32m---> 91\u001b[0;31m                 \u001b[0mself\u001b[0m\u001b[0;34m.\u001b[0m\u001b[0m_compute_node_result\u001b[0m\u001b[0;34m(\u001b[0m\u001b[0mformula\u001b[0m\u001b[0;34m,\u001b[0m \u001b[0;34m**\u001b[0m\u001b[0mkwargs\u001b[0m\u001b[0;34m)\u001b[0m\u001b[0;34m\u001b[0m\u001b[0;34m\u001b[0m\u001b[0m\n\u001b[0m\u001b[1;32m     92\u001b[0m             \u001b[0;32melse\u001b[0m\u001b[0;34m:\u001b[0m\u001b[0;34m\u001b[0m\u001b[0;34m\u001b[0m\u001b[0m\n\u001b[1;32m     93\u001b[0m                 \u001b[0mself\u001b[0m\u001b[0;34m.\u001b[0m\u001b[0m_push_with_children_to_stack\u001b[0m\u001b[0;34m(\u001b[0m\u001b[0mformula\u001b[0m\u001b[0;34m,\u001b[0m \u001b[0;34m**\u001b[0m\u001b[0mkwargs\u001b[0m\u001b[0;34m)\u001b[0m\u001b[0;34m\u001b[0m\u001b[0;34m\u001b[0m\u001b[0m\n",
      "\u001b[0;32m~/tools/pysmt/pysmt/walkers/dag.py\u001b[0m in \u001b[0;36m_compute_node_result\u001b[0;34m(self, formula, **kwargs)\u001b[0m\n\u001b[1;32m     67\u001b[0m         \u001b[0;32mif\u001b[0m \u001b[0mkey\u001b[0m \u001b[0;32mnot\u001b[0m \u001b[0;32min\u001b[0m \u001b[0mself\u001b[0m\u001b[0;34m.\u001b[0m\u001b[0mmemoization\u001b[0m\u001b[0;34m:\u001b[0m\u001b[0;34m\u001b[0m\u001b[0;34m\u001b[0m\u001b[0m\n\u001b[1;32m     68\u001b[0m             \u001b[0;32mtry\u001b[0m\u001b[0;34m:\u001b[0m\u001b[0;34m\u001b[0m\u001b[0;34m\u001b[0m\u001b[0m\n\u001b[0;32m---> 69\u001b[0;31m                 \u001b[0mf\u001b[0m \u001b[0;34m=\u001b[0m \u001b[0mself\u001b[0m\u001b[0;34m.\u001b[0m\u001b[0mfunctions\u001b[0m\u001b[0;34m[\u001b[0m\u001b[0mformula\u001b[0m\u001b[0;34m.\u001b[0m\u001b[0mnode_type\u001b[0m\u001b[0;34m(\u001b[0m\u001b[0;34m)\u001b[0m\u001b[0;34m]\u001b[0m\u001b[0;34m\u001b[0m\u001b[0;34m\u001b[0m\u001b[0m\n\u001b[0m\u001b[1;32m     70\u001b[0m             \u001b[0;32mexcept\u001b[0m \u001b[0mKeyError\u001b[0m\u001b[0;34m:\u001b[0m\u001b[0;34m\u001b[0m\u001b[0;34m\u001b[0m\u001b[0m\n\u001b[1;32m     71\u001b[0m                 \u001b[0mf\u001b[0m \u001b[0;34m=\u001b[0m \u001b[0mself\u001b[0m\u001b[0;34m.\u001b[0m\u001b[0mwalk_error\u001b[0m\u001b[0;34m\u001b[0m\u001b[0;34m\u001b[0m\u001b[0m\n",
      "\u001b[0;31mAttributeError\u001b[0m: 'str' object has no attribute 'node_type'"
     ]
    }
   ],
   "source": [
    "parser = SmtLibParser()\n",
    "script = parser.get_script(open(filename))"
   ]
  },
  {
   "cell_type": "code",
   "execution_count": 6,
   "id": "pending-nudist",
   "metadata": {},
   "outputs": [
    {
     "data": {
      "text/plain": [
       "[SmtLibCommand(name='set-info', args=[':smt-lib-version', '2.6']),\n",
       " SmtLibCommand(name='set-logic', args=[None]),\n",
       " SmtLibCommand(name='set-info', args=[':source', '\\nGenerated by: Hung-En Wang, Tzung-Lin Tsai, Chun-Han Lin, Fang Yu, and Jie-Hong R. Jiang\\nGenerated on: 2019-02-28\\nGenerator: Stranger\\nApplication: Security analysis of string manipulating web applications\\nTarget solver: CVC4, Norn, Z3-str2\\nPublication:\\nHung-En Wang, Tzung-Lin Tsai, Chun-Han Lin, Fang Yu, Jie-Hong R. Jiang:\\nString Analysis via Automata Manipulation with Logic Circuit Representation. CAV (1) 2016: 241-260.\\n']),\n",
       " SmtLibCommand(name='set-info', args=[':license', '\"https://creativecommons.org/licenses/by/4.0/\"']),\n",
       " SmtLibCommand(name='set-info', args=[':category', '\"industrial\"']),\n",
       " SmtLibCommand(name='set-info', args=[':status', 'unknown']),\n",
       " SmtLibCommand(name='declare-fun', args=[sigmaStar_0]),\n",
       " SmtLibCommand(name='declare-fun', args=[literal_1]),\n",
       " SmtLibCommand(name='assert', args=[(literal_1 = \"\\x3c\\x62\\x72\\x20\\x2f\\x3e\")]),\n",
       " SmtLibCommand(name='assert', args=[str.in.re(literal_1, re.++(re.all(), re.++(str.to.re(\"\\x5c\\x3c\\x53\\x43\\x52\\x49\\x50\\x54\"), re.all())))]),\n",
       " SmtLibCommand(name='check-sat', args=[]),\n",
       " SmtLibCommand(name='exit', args=[])]"
      ]
     },
     "execution_count": 6,
     "metadata": {},
     "output_type": "execute_result"
    }
   ],
   "source": [
    "script.commands"
   ]
  },
  {
   "cell_type": "code",
   "execution_count": 7,
   "id": "professional-change",
   "metadata": {},
   "outputs": [
    {
     "data": {
      "text/plain": [
       "{literal_1, sigmaStar_0}"
      ]
     },
     "execution_count": 7,
     "metadata": {},
     "output_type": "execute_result"
    }
   ],
   "source": [
    "script.get_declared_symbols()"
   ]
  },
  {
   "cell_type": "code",
   "execution_count": 9,
   "id": "hydraulic-effort",
   "metadata": {},
   "outputs": [
    {
     "data": {
      "text/plain": [
       "((literal_1 = \"\\x3c\\x62\\x72\\x20\\x2f\\x3e\") & str.in.re(literal_1, re.++(re.all(), re.++(str.to.re(\"\\x5c\\x3c\\x53\\x43\\x52\\x49\\x50\\x54\"), re.all()))))"
      ]
     },
     "execution_count": 9,
     "metadata": {},
     "output_type": "execute_result"
    }
   ],
   "source": [
    "script.get_last_formula()"
   ]
  },
  {
   "cell_type": "code",
   "execution_count": 13,
   "id": "forty-hungarian",
   "metadata": {},
   "outputs": [],
   "source": [
    "import sys"
   ]
  },
  {
   "cell_type": "code",
   "execution_count": 15,
   "id": "compressed-lighting",
   "metadata": {},
   "outputs": [
    {
     "name": "stdout",
     "output_type": "stream",
     "text": [
      "(set-info :smt-lib-version |2.6|)\n",
      "(set-logic None)\n",
      "(set-info :source |\n",
      "Generated by: Hung-En Wang, Tzung-Lin Tsai, Chun-Han Lin, Fang Yu, and Jie-Hong R. Jiang\n",
      "Generated on: 2019-02-28\n",
      "Generator: Stranger\n",
      "Application: Security analysis of string manipulating web applications\n",
      "Target solver: CVC4, Norn, Z3-str2\n",
      "Publication:\n",
      "Hung-En Wang, Tzung-Lin Tsai, Chun-Han Lin, Fang Yu, Jie-Hong R. Jiang:\n",
      "String Analysis via Automata Manipulation with Logic Circuit Representation. CAV (1) 2016: 241-260.\n",
      "|)\n",
      "(set-info :license |\"https://creativecommons.org/licenses/by/4.0/\"|)\n",
      "(set-info :category |\"industrial\"|)\n",
      "(set-info :status unknown)\n",
      "(declare-fun sigmaStar_0 () String)\n",
      "(declare-fun literal_1 () String)\n",
      "(assert (let ((.def_0 (= literal_1 \"\\x3c\\x62\\x72\\x20\\x2f\\x3e\"))) .def_0))\n",
      "(assert (let ((.def_0 (re.++  ( str.to.re \"\\x5c\\x3c\\x53\\x43\\x52\\x49\\x50\\x54\" ) ( re.all )))) (let ((.def_1 (re.++  ( re.all ) .def_0))) ( str.in.re literal_1 .def_1 ))))\n",
      "(check-sat)\n",
      "(exit)\n"
     ]
    }
   ],
   "source": [
    "script.serialize(sys.stdout, daggify=True)"
   ]
  },
  {
   "cell_type": "code",
   "execution_count": 92,
   "id": "a533ad45-e3cf-4033-818f-603a7c834449",
   "metadata": {},
   "outputs": [
    {
     "data": {
      "text/html": [
       "String"
      ],
      "text/plain": [
       "String"
      ]
     },
     "execution_count": 92,
     "metadata": {},
     "output_type": "execute_result"
    }
   ],
   "source": [
    "smt[0].children()[0].sort()"
   ]
  },
  {
   "cell_type": "code",
   "execution_count": 91,
   "id": "289e2a64-b541-4564-a8a4-c7bf5d64b4b7",
   "metadata": {},
   "outputs": [
    {
     "data": {
      "text/plain": [
       "z3.z3.SeqRef"
      ]
     },
     "execution_count": 91,
     "metadata": {},
     "output_type": "execute_result"
    }
   ],
   "source": [
    "type(smt[0].children()[0])"
   ]
  },
  {
   "cell_type": "code",
   "execution_count": 90,
   "id": "cb1d0168-cae3-4e98-996a-c15f91de1c19",
   "metadata": {},
   "outputs": [
    {
     "ename": "AttributeError",
     "evalue": "'ReRef' object has no attribute 'is_string'",
     "output_type": "error",
     "traceback": [
      "\u001b[0;31m---------------------------------------------------------------------------\u001b[0m",
      "\u001b[0;31mAttributeError\u001b[0m                            Traceback (most recent call last)",
      "\u001b[0;32m<ipython-input-90-55dc31ae156d>\u001b[0m in \u001b[0;36m<module>\u001b[0;34m\u001b[0m\n\u001b[0;32m----> 1\u001b[0;31m \u001b[0msmt\u001b[0m\u001b[0;34m[\u001b[0m\u001b[0;36m1\u001b[0m\u001b[0;34m]\u001b[0m\u001b[0;34m.\u001b[0m\u001b[0mchildren\u001b[0m\u001b[0;34m(\u001b[0m\u001b[0;34m)\u001b[0m\u001b[0;34m[\u001b[0m\u001b[0;36m1\u001b[0m\u001b[0;34m]\u001b[0m\u001b[0;34m.\u001b[0m\u001b[0mis_string\u001b[0m\u001b[0;34m(\u001b[0m\u001b[0;34m)\u001b[0m\u001b[0;34m\u001b[0m\u001b[0;34m\u001b[0m\u001b[0m\n\u001b[0m",
      "\u001b[0;31mAttributeError\u001b[0m: 'ReRef' object has no attribute 'is_string'"
     ]
    }
   ],
   "source": [
    "smt[1].children()[1].is_string()"
   ]
  },
  {
   "cell_type": "code",
   "execution_count": 73,
   "id": "6ddb9e9f-71be-4348-9cf2-c02f4a839612",
   "metadata": {},
   "outputs": [
    {
     "data": {
      "text/plain": [
       "45100"
      ]
     },
     "execution_count": 73,
     "metadata": {},
     "output_type": "execute_result"
    }
   ],
   "source": [
    "eq.children()[1].decl().kind()"
   ]
  },
  {
   "cell_type": "code",
   "execution_count": 68,
   "id": "bb792a3e-b0f6-48ba-9f12-3d3366b5bcbb",
   "metadata": {},
   "outputs": [
    {
     "data": {
      "text/plain": [
       "45101"
      ]
     },
     "execution_count": 68,
     "metadata": {},
     "output_type": "execute_result"
    }
   ],
   "source": [
    "lit.decl().kind()"
   ]
  },
  {
   "cell_type": "code",
   "execution_count": 70,
   "id": "fe003d08-b2a3-4428-8ad5-44221c72fae0",
   "metadata": {},
   "outputs": [
    {
     "data": {
      "text/plain": [
       "2"
      ]
     },
     "execution_count": 70,
     "metadata": {},
     "output_type": "execute_result"
    }
   ],
   "source": [
    "z3.Z3_VAR_AST"
   ]
  },
  {
   "cell_type": "code",
   "execution_count": 63,
   "id": "a52181f7-8ec5-49eb-8a7b-2f8e2a7cff3f",
   "metadata": {},
   "outputs": [
    {
     "data": {
      "text/plain": [
       "12"
      ]
     },
     "execution_count": 63,
     "metadata": {},
     "output_type": "execute_result"
    }
   ],
   "source": [
    "z3.z3consts.Z3_RE_SORT"
   ]
  },
  {
   "cell_type": "code",
   "execution_count": null,
   "id": "2ee3e0a3-8fe2-4317-8c44-a5d6c309a12c",
   "metadata": {},
   "outputs": [],
   "source": []
  },
  {
   "cell_type": "code",
   "execution_count": 61,
   "id": "3f4ff7ae-c3b3-48d7-b5b7-c4504c6505da",
   "metadata": {},
   "outputs": [
    {
     "name": "stdout",
     "output_type": "stream",
     "text": [
      "=\n",
      "Bool\n",
      "2\n",
      "258\n",
      "1559\n"
     ]
    }
   ],
   "source": [
    "eq_d = eq.decl()\n",
    "print(eq_d.name())\n",
    "print(eq_d.range())\n",
    "print(eq_d.arity())\n",
    "print(eq_d.kind())\n",
    "print(z3.Z3_OP_EQ)"
   ]
  },
  {
   "cell_type": "code",
   "execution_count": 57,
   "id": "f6bffaef-3416-4952-86f1-bf7f8724c772",
   "metadata": {},
   "outputs": [
    {
     "name": "stdout",
     "output_type": "stream",
     "text": [
      "1\n"
     ]
    }
   ],
   "source": [
    "print(z3.Z3_STRING_SYMBOL)"
   ]
  },
  {
   "cell_type": "code",
   "execution_count": 58,
   "id": "859e2252-2d6a-4d1c-9bd1-92e4e025d05b",
   "metadata": {},
   "outputs": [
    {
     "name": "stdout",
     "output_type": "stream",
     "text": [
      "1565\n"
     ]
    }
   ],
   "source": [
    "print(z3.Z3_OP_SEQ_IN_RE)"
   ]
  },
  {
   "cell_type": "code",
   "execution_count": 51,
   "id": "60e78460-dcf9-46a9-bae9-fab6bea62e5e",
   "metadata": {},
   "outputs": [
    {
     "data": {
      "text/plain": [
       "[]"
      ]
     },
     "execution_count": 51,
     "metadata": {},
     "output_type": "execute_result"
    }
   ],
   "source": [
    "lit = eq.children()[0]\n",
    "lit.decl().params()"
   ]
  },
  {
   "cell_type": "code",
   "execution_count": 50,
   "id": "c7657716-b04c-46c9-a5e6-9522844d218b",
   "metadata": {},
   "outputs": [
    {
     "data": {
      "text/plain": [
       "[<Symbol object at 0x7f7bf416f940>]"
      ]
     },
     "execution_count": 50,
     "metadata": {},
     "output_type": "execute_result"
    }
   ],
   "source": [
    "lit = eq.children()[1]\n",
    "lit.decl().params()"
   ]
  },
  {
   "cell_type": "code",
   "execution_count": 38,
   "id": "7997b89f-ed72-4728-a104-00f8c5a0f5b3",
   "metadata": {},
   "outputs": [],
   "source": [
    "lit = eq.children()[1]"
   ]
  },
  {
   "cell_type": "code",
   "execution_count": 43,
   "id": "5b42a8b1-e4a5-4825-a59e-0c88cdc1cb6f",
   "metadata": {},
   "outputs": [
    {
     "data": {
      "text/plain": [
       "'<br />'"
      ]
     },
     "execution_count": 43,
     "metadata": {},
     "output_type": "execute_result"
    }
   ],
   "source": [
    "lit.as_string()"
   ]
  },
  {
   "cell_type": "code",
   "execution_count": 10,
   "id": "4360b743-276f-49b4-87c8-b0bc513463b1",
   "metadata": {},
   "outputs": [
    {
     "data": {
      "text/plain": [
       "z3.z3.FuncDeclRef"
      ]
     },
     "execution_count": 10,
     "metadata": {},
     "output_type": "execute_result"
    }
   ],
   "source": [
    "type(smt[1].decl())"
   ]
  },
  {
   "cell_type": "code",
   "execution_count": 14,
   "id": "ab93ed7a-4c4e-4d3c-a82b-7d9d82443542",
   "metadata": {},
   "outputs": [],
   "source": [
    "inRe = smt[1].decl()"
   ]
  },
  {
   "cell_type": "code",
   "execution_count": 18,
   "id": "75f71292-052a-4a41-b631-ff6b7b492acc",
   "metadata": {},
   "outputs": [
    {
     "data": {
      "text/plain": [
       "'str.in_re'"
      ]
     },
     "execution_count": 18,
     "metadata": {},
     "output_type": "execute_result"
    }
   ],
   "source": [
    "inRe.name()"
   ]
  },
  {
   "cell_type": "code",
   "execution_count": 25,
   "id": "2e5fdd3c-af88-47b4-a027-bea0cd83ac75",
   "metadata": {},
   "outputs": [],
   "source": [
    "ast = inRe.as_ast()"
   ]
  },
  {
   "cell_type": "code",
   "execution_count": 27,
   "id": "ad34e59c-2dc6-4882-99ec-93f3ebd3eb5f",
   "metadata": {},
   "outputs": [
    {
     "data": {
      "text/plain": [
       "True"
      ]
     },
     "execution_count": 27,
     "metadata": {},
     "output_type": "execute_result"
    }
   ],
   "source": [
    "is_inre(smt[1])"
   ]
  },
  {
   "cell_type": "code",
   "execution_count": 20,
   "id": "7f974894-dc06-46de-b211-83b653a72cf2",
   "metadata": {},
   "outputs": [],
   "source": []
  },
  {
   "cell_type": "code",
   "execution_count": 25,
   "id": "9c071a2b-9010-4b39-9089-88e68a647b41",
   "metadata": {},
   "outputs": [
    {
     "name": "stdout",
     "output_type": "stream",
     "text": [
      "no solution\n"
     ]
    }
   ],
   "source": [
    "z3.solve(smt)"
   ]
  },
  {
   "cell_type": "code",
   "execution_count": 26,
   "id": "6931057c-e18d-4c86-8005-141aebba5440",
   "metadata": {},
   "outputs": [
    {
     "data": {
      "text/plain": [
       "'(ast-vector\\n  (= literal_1 \"<br />\")\\n  (str.in_re literal_1\\n             (re.++ (re.* re.allchar)\\n                    (re.++ (str.to_re \"\\\\\\\\<SCRIPT\") (re.* re.allchar)))))'"
      ]
     },
     "execution_count": 26,
     "metadata": {},
     "output_type": "execute_result"
    }
   ],
   "source": [
    "smt.sexpr()"
   ]
  },
  {
   "cell_type": "code",
   "execution_count": 35,
   "id": "7dab631a-75ff-442f-9bdc-83330aebac09",
   "metadata": {},
   "outputs": [
    {
     "data": {
      "text/plain": [
       "<z3.z3.Context at 0x7fb6376e5c70>"
      ]
     },
     "execution_count": 35,
     "metadata": {},
     "output_type": "execute_result"
    }
   ],
   "source": [
    "smt.ctx"
   ]
  },
  {
   "cell_type": "code",
   "execution_count": 28,
   "id": "b6b61b8a-224d-4a2d-89b2-3fb85aa9ede9",
   "metadata": {},
   "outputs": [
    {
     "data": {
      "text/plain": [
       "2"
      ]
     },
     "execution_count": 28,
     "metadata": {},
     "output_type": "execute_result"
    }
   ],
   "source": [
    "len(smt)"
   ]
  },
  {
   "cell_type": "code",
   "execution_count": 27,
   "id": "ce94cb17-9cb4-425f-9399-db2825e02a29",
   "metadata": {},
   "outputs": [
    {
     "name": "stdout",
     "output_type": "stream",
     "text": [
      "literal_1 == \"<br />\"\n",
      "InRe(literal_1,\n",
      "     re.++(Star(re.allchar),\n",
      "           re.++(Re(\"\\<SCRIPT\"), Star(re.allchar))))\n"
     ]
    }
   ],
   "source": [
    "for cmd in smt:\n",
    "    print(cmd)"
   ]
  },
  {
   "cell_type": "code",
   "execution_count": 18,
   "id": "47320845-b9c8-41da-a0ac-9be5fd63001f",
   "metadata": {},
   "outputs": [],
   "source": [
    "solver = z3.Solver()"
   ]
  },
  {
   "cell_type": "code",
   "execution_count": 19,
   "id": "b8897b0e-97bf-4a5c-9e27-56d014993a8a",
   "metadata": {},
   "outputs": [],
   "source": [
    "solver.from_file(filename)"
   ]
  },
  {
   "cell_type": "code",
   "execution_count": 32,
   "id": "8ea3e642-9dcb-4044-902d-79ecfc4cea7d",
   "metadata": {},
   "outputs": [],
   "source": [
    "asserts = solver.assertions()"
   ]
  },
  {
   "cell_type": "code",
   "execution_count": 36,
   "id": "988bddb8-ac01-405f-8c63-5e19650ea194",
   "metadata": {},
   "outputs": [
    {
     "name": "stdout",
     "output_type": "stream",
     "text": [
      "literal_1 == \"<br />\"\n",
      "InRe(literal_1,\n",
      "     re.++(Star(re.allchar),\n",
      "           re.++(Re(\"\\<SCRIPT\"), Star(re.allchar))))\n"
     ]
    }
   ],
   "source": [
    "for a in asserts:\n",
    "    print(a)"
   ]
  },
  {
   "cell_type": "code",
   "execution_count": 37,
   "id": "c14e5ad6-7059-498d-a327-e05dcd67af0b",
   "metadata": {},
   "outputs": [
    {
     "ename": "Z3Exception",
     "evalue": "model is not available",
     "output_type": "error",
     "traceback": [
      "\u001b[0;31m---------------------------------------------------------------------------\u001b[0m",
      "\u001b[0;31mZ3Exception\u001b[0m                               Traceback (most recent call last)",
      "\u001b[0;32m/usr/local/lib/python3.8/dist-packages/z3/z3.py\u001b[0m in \u001b[0;36mmodel\u001b[0;34m(self)\u001b[0m\n\u001b[1;32m   6714\u001b[0m         \u001b[0;32mtry\u001b[0m\u001b[0;34m:\u001b[0m\u001b[0;34m\u001b[0m\u001b[0;34m\u001b[0m\u001b[0m\n\u001b[0;32m-> 6715\u001b[0;31m             \u001b[0;32mreturn\u001b[0m \u001b[0mModelRef\u001b[0m\u001b[0;34m(\u001b[0m\u001b[0mZ3_solver_get_model\u001b[0m\u001b[0;34m(\u001b[0m\u001b[0mself\u001b[0m\u001b[0;34m.\u001b[0m\u001b[0mctx\u001b[0m\u001b[0;34m.\u001b[0m\u001b[0mref\u001b[0m\u001b[0;34m(\u001b[0m\u001b[0;34m)\u001b[0m\u001b[0;34m,\u001b[0m \u001b[0mself\u001b[0m\u001b[0;34m.\u001b[0m\u001b[0msolver\u001b[0m\u001b[0;34m)\u001b[0m\u001b[0;34m,\u001b[0m \u001b[0mself\u001b[0m\u001b[0;34m.\u001b[0m\u001b[0mctx\u001b[0m\u001b[0;34m)\u001b[0m\u001b[0;34m\u001b[0m\u001b[0;34m\u001b[0m\u001b[0m\n\u001b[0m\u001b[1;32m   6716\u001b[0m         \u001b[0;32mexcept\u001b[0m \u001b[0mZ3Exception\u001b[0m\u001b[0;34m:\u001b[0m\u001b[0;34m\u001b[0m\u001b[0;34m\u001b[0m\u001b[0m\n",
      "\u001b[0;32m/usr/local/lib/python3.8/dist-packages/z3/z3core.py\u001b[0m in \u001b[0;36mZ3_solver_get_model\u001b[0;34m(a0, a1, _elems)\u001b[0m\n\u001b[1;32m   3827\u001b[0m   \u001b[0mr\u001b[0m \u001b[0;34m=\u001b[0m \u001b[0m_elems\u001b[0m\u001b[0;34m.\u001b[0m\u001b[0mf\u001b[0m\u001b[0;34m(\u001b[0m\u001b[0ma0\u001b[0m\u001b[0;34m,\u001b[0m \u001b[0ma1\u001b[0m\u001b[0;34m)\u001b[0m\u001b[0;34m\u001b[0m\u001b[0;34m\u001b[0m\u001b[0m\n\u001b[0;32m-> 3828\u001b[0;31m   \u001b[0m_elems\u001b[0m\u001b[0;34m.\u001b[0m\u001b[0mCheck\u001b[0m\u001b[0;34m(\u001b[0m\u001b[0ma0\u001b[0m\u001b[0;34m)\u001b[0m\u001b[0;34m\u001b[0m\u001b[0;34m\u001b[0m\u001b[0m\n\u001b[0m\u001b[1;32m   3829\u001b[0m   \u001b[0;32mreturn\u001b[0m \u001b[0mr\u001b[0m\u001b[0;34m\u001b[0m\u001b[0;34m\u001b[0m\u001b[0m\n",
      "\u001b[0;32m/usr/local/lib/python3.8/dist-packages/z3/z3core.py\u001b[0m in \u001b[0;36mCheck\u001b[0;34m(self, ctx)\u001b[0m\n\u001b[1;32m   1413\u001b[0m     \u001b[0;32mif\u001b[0m \u001b[0merr\u001b[0m \u001b[0;34m!=\u001b[0m \u001b[0mself\u001b[0m\u001b[0;34m.\u001b[0m\u001b[0mOK\u001b[0m\u001b[0;34m:\u001b[0m\u001b[0;34m\u001b[0m\u001b[0;34m\u001b[0m\u001b[0m\n\u001b[0;32m-> 1414\u001b[0;31m         \u001b[0;32mraise\u001b[0m \u001b[0mself\u001b[0m\u001b[0;34m.\u001b[0m\u001b[0mException\u001b[0m\u001b[0;34m(\u001b[0m\u001b[0mself\u001b[0m\u001b[0;34m.\u001b[0m\u001b[0mget_error_message\u001b[0m\u001b[0;34m(\u001b[0m\u001b[0mctx\u001b[0m\u001b[0;34m,\u001b[0m \u001b[0merr\u001b[0m\u001b[0;34m)\u001b[0m\u001b[0;34m)\u001b[0m\u001b[0;34m\u001b[0m\u001b[0;34m\u001b[0m\u001b[0m\n\u001b[0m\u001b[1;32m   1415\u001b[0m \u001b[0;34m\u001b[0m\u001b[0m\n",
      "\u001b[0;31mZ3Exception\u001b[0m: b'there is no current model'",
      "\nDuring handling of the above exception, another exception occurred:\n",
      "\u001b[0;31mZ3Exception\u001b[0m                               Traceback (most recent call last)",
      "\u001b[0;32m<ipython-input-37-37e4d01ab0a8>\u001b[0m in \u001b[0;36m<module>\u001b[0;34m\u001b[0m\n\u001b[0;32m----> 1\u001b[0;31m \u001b[0msolver\u001b[0m\u001b[0;34m.\u001b[0m\u001b[0mmodel\u001b[0m\u001b[0;34m(\u001b[0m\u001b[0;34m)\u001b[0m\u001b[0;34m\u001b[0m\u001b[0;34m\u001b[0m\u001b[0m\n\u001b[0m",
      "\u001b[0;32m/usr/local/lib/python3.8/dist-packages/z3/z3.py\u001b[0m in \u001b[0;36mmodel\u001b[0;34m(self)\u001b[0m\n\u001b[1;32m   6715\u001b[0m             \u001b[0;32mreturn\u001b[0m \u001b[0mModelRef\u001b[0m\u001b[0;34m(\u001b[0m\u001b[0mZ3_solver_get_model\u001b[0m\u001b[0;34m(\u001b[0m\u001b[0mself\u001b[0m\u001b[0;34m.\u001b[0m\u001b[0mctx\u001b[0m\u001b[0;34m.\u001b[0m\u001b[0mref\u001b[0m\u001b[0;34m(\u001b[0m\u001b[0;34m)\u001b[0m\u001b[0;34m,\u001b[0m \u001b[0mself\u001b[0m\u001b[0;34m.\u001b[0m\u001b[0msolver\u001b[0m\u001b[0;34m)\u001b[0m\u001b[0;34m,\u001b[0m \u001b[0mself\u001b[0m\u001b[0;34m.\u001b[0m\u001b[0mctx\u001b[0m\u001b[0;34m)\u001b[0m\u001b[0;34m\u001b[0m\u001b[0;34m\u001b[0m\u001b[0m\n\u001b[1;32m   6716\u001b[0m         \u001b[0;32mexcept\u001b[0m \u001b[0mZ3Exception\u001b[0m\u001b[0;34m:\u001b[0m\u001b[0;34m\u001b[0m\u001b[0;34m\u001b[0m\u001b[0m\n\u001b[0;32m-> 6717\u001b[0;31m             \u001b[0;32mraise\u001b[0m \u001b[0mZ3Exception\u001b[0m\u001b[0;34m(\u001b[0m\u001b[0;34m\"model is not available\"\u001b[0m\u001b[0;34m)\u001b[0m\u001b[0;34m\u001b[0m\u001b[0;34m\u001b[0m\u001b[0m\n\u001b[0m\u001b[1;32m   6718\u001b[0m \u001b[0;34m\u001b[0m\u001b[0m\n\u001b[1;32m   6719\u001b[0m     \u001b[0;32mdef\u001b[0m \u001b[0mimport_model_converter\u001b[0m\u001b[0;34m(\u001b[0m\u001b[0mself\u001b[0m\u001b[0;34m,\u001b[0m \u001b[0mother\u001b[0m\u001b[0;34m)\u001b[0m\u001b[0;34m:\u001b[0m\u001b[0;34m\u001b[0m\u001b[0;34m\u001b[0m\u001b[0m\n",
      "\u001b[0;31mZ3Exception\u001b[0m: model is not available"
     ]
    }
   ],
   "source": [
    "solver."
   ]
  },
  {
   "cell_type": "code",
   "execution_count": null,
   "id": "be48a395-2e91-4025-b554-c2bcf6941d5c",
   "metadata": {},
   "outputs": [],
   "source": []
  },
  {
   "cell_type": "code",
   "execution_count": null,
   "id": "ea952de6-2748-4926-b2a9-717c71dc6891",
   "metadata": {},
   "outputs": [],
   "source": []
  },
  {
   "cell_type": "code",
   "execution_count": null,
   "id": "9bc33a1d-7814-47c8-9a63-33219598cf5d",
   "metadata": {},
   "outputs": [],
   "source": []
  },
  {
   "cell_type": "code",
   "execution_count": null,
   "id": "5e14b385-d2f1-4d9a-9d75-bae3e6947373",
   "metadata": {},
   "outputs": [],
   "source": [
    "solver.use_pp()"
   ]
  },
  {
   "cell_type": "code",
   "execution_count": 48,
   "id": "fdad0829-7110-4259-b95c-c6d569fd55c1",
   "metadata": {},
   "outputs": [
    {
     "data": {
      "text/plain": [
       "False"
      ]
     },
     "execution_count": 48,
     "metadata": {},
     "output_type": "execute_result"
    }
   ],
   "source": [
    "z3.is_string(smt)"
   ]
  },
  {
   "cell_type": "code",
   "execution_count": 51,
   "id": "00ff79f6-bdd2-4403-930b-9508921b9660",
   "metadata": {},
   "outputs": [
    {
     "data": {
      "text/plain": [
       "False"
      ]
     },
     "execution_count": 51,
     "metadata": {},
     "output_type": "execute_result"
    }
   ],
   "source": [
    "z3.is_string(smt[0])"
   ]
  },
  {
   "cell_type": "code",
   "execution_count": 56,
   "id": "d5bc7094-8c4b-4537-a1d6-937f87717704",
   "metadata": {},
   "outputs": [],
   "source": [
    "cmd = smt[0]"
   ]
  },
  {
   "cell_type": "code",
   "execution_count": 59,
   "id": "9ecbc356-4895-4c26-8b56-d258ddd7470b",
   "metadata": {},
   "outputs": [
    {
     "data": {
      "text/plain": [
       "True"
      ]
     },
     "execution_count": 59,
     "metadata": {},
     "output_type": "execute_result"
    }
   ],
   "source": [
    "z3.is_eq(cmd)"
   ]
  },
  {
   "cell_type": "code",
   "execution_count": 70,
   "id": "ced1dbd9-b505-4989-ab0f-fef0d9e23e58",
   "metadata": {},
   "outputs": [],
   "source": [
    "lit = cmd.children()[0]\n",
    "br = cmd.children()[0]"
   ]
  },
  {
   "cell_type": "code",
   "execution_count": 67,
   "id": "6c51a28e-c71a-4b7d-afc4-c3748c2f90a9",
   "metadata": {},
   "outputs": [
    {
     "data": {
      "text/plain": [
       "True"
      ]
     },
     "execution_count": 67,
     "metadata": {},
     "output_type": "execute_result"
    }
   ],
   "source": [
    "z3.is_const(lit)"
   ]
  },
  {
   "cell_type": "code",
   "execution_count": 74,
   "id": "4aefb113-9bf8-4665-ae91-2ac09749a0d7",
   "metadata": {},
   "outputs": [
    {
     "data": {
      "text/plain": [
       "False"
      ]
     },
     "execution_count": 74,
     "metadata": {},
     "output_type": "execute_result"
    }
   ],
   "source": [
    "z3.is_string(lit)"
   ]
  },
  {
   "cell_type": "code",
   "execution_count": null,
   "id": "78e5fa0a-1509-46de-bf7f-6692495500d3",
   "metadata": {},
   "outputs": [],
   "source": [
    "z3.is"
   ]
  },
  {
   "cell_type": "code",
   "execution_count": 68,
   "id": "ac87d067-7be1-4880-b347-0a321296eaeb",
   "metadata": {},
   "outputs": [
    {
     "data": {
      "text/plain": [
       "True"
      ]
     },
     "execution_count": 68,
     "metadata": {},
     "output_type": "execute_result"
    }
   ],
   "source": [
    "z3.is_const(cmd.children()[1])"
   ]
  },
  {
   "cell_type": "code",
   "execution_count": 52,
   "id": "e1aa4dc9-bce8-4a7a-a3d1-e31f3a905b83",
   "metadata": {},
   "outputs": [
    {
     "data": {
      "text/plain": [
       "False"
      ]
     },
     "execution_count": 52,
     "metadata": {},
     "output_type": "execute_result"
    }
   ],
   "source": [
    "z3.is_ast(smt)"
   ]
  }
 ],
 "metadata": {
  "kernelspec": {
   "display_name": "Python 3",
   "language": "python",
   "name": "python3"
  },
  "language_info": {
   "codemirror_mode": {
    "name": "ipython",
    "version": 3
   },
   "file_extension": ".py",
   "mimetype": "text/x-python",
   "name": "python",
   "nbconvert_exporter": "python",
   "pygments_lexer": "ipython3",
   "version": "3.8.6"
  }
 },
 "nbformat": 4,
 "nbformat_minor": 5
}
